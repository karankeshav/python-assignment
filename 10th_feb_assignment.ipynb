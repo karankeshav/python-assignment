{
  "nbformat": 4,
  "nbformat_minor": 0,
  "metadata": {
    "colab": {
      "provenance": [],
      "authorship_tag": "ABX9TyP61UheOM57lEnBzS/be5yg",
      "include_colab_link": true
    },
    "kernelspec": {
      "name": "python3",
      "display_name": "Python 3"
    },
    "language_info": {
      "name": "python"
    }
  },
  "cells": [
    {
      "cell_type": "markdown",
      "metadata": {
        "id": "view-in-github",
        "colab_type": "text"
      },
      "source": [
        "<a href=\"https://colab.research.google.com/github/karankeshav/python-assignment/blob/main/10th_feb_assignment.ipynb\" target=\"_parent\"><img src=\"https://colab.research.google.com/assets/colab-badge.svg\" alt=\"Open In Colab\"/></a>"
      ]
    },
    {
      "cell_type": "markdown",
      "source": [
        "##FILES"
      ],
      "metadata": {
        "id": "hfXly0jDV7VF"
      }
    },
    {
      "cell_type": "markdown",
      "source": [
        "###Q1. Which function is used to open a file? What are the different modes of opening a file? Explain each mode of file opening."
      ],
      "metadata": {
        "id": "e0WRAC0-AegH"
      }
    },
    {
      "cell_type": "markdown",
      "source": [
        "###Answ.\n",
        "\n",
        "\n",
        "open() is a function used to open a file as well as its is used for creating and updation of file.\n",
        "\n",
        "r : Open a file for reading.\n",
        "\n",
        "w : Open a file for writing,creates a new file if it does not exist or truncates the file if its exist.\n",
        "\n",
        "x : Open a file for exclusive  creation.If the file already exist ,the operation fails.\n",
        "\n",
        "a : Open a file for appending at the end of the file without truncating it.Creates a new file if it does not exist.\n",
        "\n",
        "t : Open in text mode.\n",
        "\n",
        "b : Open in binary mode.\n",
        "\n",
        "(+) : Open a file for updating."
      ],
      "metadata": {
        "id": "Um5YQyZJAk8R"
      }
    },
    {
      "cell_type": "code",
      "source": [
        "#example of w\n",
        "\n",
        "a=open('file1','w')\n",
        "a.write('hey ,my name is karan')\n",
        "a.close()"
      ],
      "metadata": {
        "id": "eqAYPmReCT1E"
      },
      "execution_count": 30,
      "outputs": []
    },
    {
      "cell_type": "code",
      "source": [
        "#example of r\n",
        "a=open('file1','r')\n",
        "print(a.read())\n"
      ],
      "metadata": {
        "colab": {
          "base_uri": "https://localhost:8080/"
        },
        "id": "p8LYHeQyCUAC",
        "outputId": "f6fc3a1b-5bcf-408c-8a5b-935c5169855c"
      },
      "execution_count": 31,
      "outputs": [
        {
          "output_type": "stream",
          "name": "stdout",
          "text": [
            "hey ,my name is karan\n"
          ]
        }
      ]
    },
    {
      "cell_type": "code",
      "source": [
        "#example of a\n",
        "b=open('file1','a')\n",
        "b.write('\\nim doing data science course from pwskills data science masters')\n",
        "b.close()"
      ],
      "metadata": {
        "id": "f6d89PriCUCh"
      },
      "execution_count": 32,
      "outputs": []
    },
    {
      "cell_type": "code",
      "source": [
        "#example of +\n",
        "a=open('file1','a+')\n",
        "a.write('\\nim 23 years old')\n",
        "a.close()"
      ],
      "metadata": {
        "id": "ykhFd0tTCUGK"
      },
      "execution_count": 33,
      "outputs": []
    },
    {
      "cell_type": "code",
      "source": [
        "a=open('file1','rt')\n",
        "print(a.read())"
      ],
      "metadata": {
        "colab": {
          "base_uri": "https://localhost:8080/"
        },
        "id": "PH7SZc7rGH4u",
        "outputId": "377daf62-ea45-4ed3-fd92-bc57308c445e"
      },
      "execution_count": 34,
      "outputs": [
        {
          "output_type": "stream",
          "name": "stdout",
          "text": [
            "hey ,my name is karan\n",
            "im doing data science course from pwskills data science masters\n",
            "im 23 years old\n"
          ]
        }
      ]
    },
    {
      "cell_type": "code",
      "source": [
        "a=open('file2','x')\n",
        "a.write('im learning python')\n",
        "a.close()"
      ],
      "metadata": {
        "id": "ryKqttiQGgw3"
      },
      "execution_count": 36,
      "outputs": []
    },
    {
      "cell_type": "markdown",
      "source": [
        "###Q2. Why close() function is used? Why is it important to close a file?\n",
        "\n"
      ],
      "metadata": {
        "id": "SDmmtmXRAULB"
      }
    },
    {
      "cell_type": "markdown",
      "source": [
        "###Ans.\n",
        "\n",
        "Close() function plays important role in file handlng. while opening pr creating a file,it is necessary to use close() function after it,otherwise it will remain save in ram.\n",
        "\n",
        "In conclusion close() function is used after open or creating a file to release the memory allocated by the program,as well as for some security purposes."
      ],
      "metadata": {
        "id": "JIKc4CBBIY4K"
      }
    },
    {
      "cell_type": "markdown",
      "source": [
        "###Q3. Write a python program to create a text file. Write ‘I want to become a Data Scientist’ in that file. Then close the file. Open this file and read the content of the file."
      ],
      "metadata": {
        "id": "RMfZwUvmJWpk"
      }
    },
    {
      "cell_type": "markdown",
      "source": [
        "###Ans.\n",
        "\n"
      ],
      "metadata": {
        "id": "033IHjhkJrw3"
      }
    },
    {
      "cell_type": "code",
      "source": [
        "with open('file.txt','w') as a:\n",
        "  a.write('I want to become a Data Scientist.')\n",
        "  a.close()"
      ],
      "metadata": {
        "id": "gVv4JHf6J3CA"
      },
      "execution_count": 67,
      "outputs": []
    },
    {
      "cell_type": "code",
      "source": [
        "with open('file.txt','r') as a:\n",
        "  print(a.read())"
      ],
      "metadata": {
        "colab": {
          "base_uri": "https://localhost:8080/"
        },
        "id": "GEb0JcDTKP37",
        "outputId": "c68c8aa6-6b6c-42a8-d89d-b29392946be7"
      },
      "execution_count": 68,
      "outputs": [
        {
          "output_type": "stream",
          "name": "stdout",
          "text": [
            "I want to become a Data Scientist.\n"
          ]
        }
      ]
    },
    {
      "cell_type": "markdown",
      "source": [
        "###Q4. Explain the following with python code: read(), readline() and readlines()."
      ],
      "metadata": {
        "id": "pGl55UTiKcWh"
      }
    },
    {
      "cell_type": "markdown",
      "source": [
        "###Ans.\n",
        "\n",
        "read() : it is used to read a particular file.\n",
        "\n",
        "readline() : it is used to read one line from the existing file.You have to write print statement again and again ,as a resuly you will get file line by line.\n",
        "\n",
        "readlines() : it will returns a list containing each line in the files as a list item.\n",
        "\n",
        "\n",
        "let's see some examples of it..."
      ],
      "metadata": {
        "id": "7GAHwVJkKgmb"
      }
    },
    {
      "cell_type": "code",
      "source": [
        "#read()\n",
        "a=open('file1','r')\n",
        "print(a.read())"
      ],
      "metadata": {
        "id": "erI0zuWbLz3l",
        "colab": {
          "base_uri": "https://localhost:8080/"
        },
        "outputId": "461b6827-e774-4d92-890b-c3edf8bf0a28"
      },
      "execution_count": 38,
      "outputs": [
        {
          "output_type": "stream",
          "name": "stdout",
          "text": [
            "hey ,my name is karan\n",
            "im doing data science course from pwskills data science masters\n",
            "im 23 years old\n"
          ]
        }
      ]
    },
    {
      "cell_type": "code",
      "source": [
        "#readline()\n",
        "a=open('file1','r')\n",
        "print(a.readline(),end='')\n",
        "print(a.readline())"
      ],
      "metadata": {
        "id": "NKPJ-RAIMAW3",
        "colab": {
          "base_uri": "https://localhost:8080/"
        },
        "outputId": "db7fb711-24fd-468b-b93e-ef6bb1ab9bcc"
      },
      "execution_count": 42,
      "outputs": [
        {
          "output_type": "stream",
          "name": "stdout",
          "text": [
            "hey ,my name is karan\n",
            "im doing data science course from pwskills data science masters\n",
            "\n"
          ]
        }
      ]
    },
    {
      "cell_type": "code",
      "source": [
        "#readlines()\n",
        "a=open('file1','r')\n",
        "print(a.readlines())"
      ],
      "metadata": {
        "id": "2Q2Eumj-MALW",
        "colab": {
          "base_uri": "https://localhost:8080/"
        },
        "outputId": "042e32ea-8019-4c1a-bcbe-00c2a984825d"
      },
      "execution_count": 43,
      "outputs": [
        {
          "output_type": "stream",
          "name": "stdout",
          "text": [
            "['hey ,my name is karan\\n', 'im doing data science course from pwskills data science masters\\n', 'im 23 years old']\n"
          ]
        }
      ]
    },
    {
      "cell_type": "markdown",
      "source": [
        "###Q5. Explain why with statement is used with open(). What is the advantage of using with statement and open() together?"
      ],
      "metadata": {
        "id": "Zo7Xi3ODN1of"
      }
    },
    {
      "cell_type": "markdown",
      "source": [
        "###Ans.\n",
        "\n",
        "With statement is used with open() and the reason behind is pretty obvious.Actually it is the advance form of opening and creating a file.\n",
        "\n",
        "In open() function when we open or creates a file ,we used close() function to close the file and it is necessay to close the file after creating or writing in the file, so to avoid use or writing close() function ,we use with statement with open() function.\n",
        "\n",
        "So in nutshell using with statement with open() provide us to open and creating a file in more advance manner,and it does not need to use close() function.\n",
        "\n",
        "Let us see example of it.."
      ],
      "metadata": {
        "id": "r9UaOah1N6zw"
      }
    },
    {
      "cell_type": "code",
      "source": [
        "with open('file1','r') as a:\n",
        "  print(a.read())"
      ],
      "metadata": {
        "colab": {
          "base_uri": "https://localhost:8080/"
        },
        "id": "bsaPa2YhP53O",
        "outputId": "e27376a8-75e2-42dd-c9f0-f47467cecd72"
      },
      "execution_count": 45,
      "outputs": [
        {
          "output_type": "stream",
          "name": "stdout",
          "text": [
            "hey ,my name is karan\n",
            "im doing data science course from pwskills data science masters\n",
            "im 23 years old\n"
          ]
        }
      ]
    },
    {
      "cell_type": "markdown",
      "source": [
        "###Q6. Explain the write() and writelines() functions. Give a suitable example."
      ],
      "metadata": {
        "id": "Q5_eNCpXQDm-"
      }
    },
    {
      "cell_type": "markdown",
      "source": [
        "###Ans.\n",
        "\n",
        "\n",
        "write() is a function which is used to write in the file in existing as well while creatng a new file.\n",
        "\n",
        "writelines() is just the reciprocal of readlines. The writelines() method writes the items of a list to the file.Where the texts will be inserted depends on the file mode and stream postion.\n",
        "\n",
        "Let us see some example of it..."
      ],
      "metadata": {
        "id": "_LdHe7xYQIFm"
      }
    },
    {
      "cell_type": "code",
      "source": [
        "\"example of read()\"\n",
        "a=open('file1','r')\n",
        "print(a.read())"
      ],
      "metadata": {
        "colab": {
          "base_uri": "https://localhost:8080/"
        },
        "id": "CE5o2xvZRl2e",
        "outputId": "7c787d6d-ac7d-4f19-dbd8-b60f017bd155"
      },
      "execution_count": 47,
      "outputs": [
        {
          "output_type": "stream",
          "name": "stdout",
          "text": [
            "hey ,my name is karan\n",
            "im doing data science course from pwskills data science masters\n",
            "im 23 years old\n"
          ]
        }
      ]
    },
    {
      "cell_type": "code",
      "source": [
        "'example of writelines'\n",
        "l=['i\\n','want\\n','to\\n','become\\n','Data\\n','Scientist\\n']\n",
        "with open('file3','w') as b:\n",
        " b.writelines(l)"
      ],
      "metadata": {
        "id": "e1Hm4v9VRmSm"
      },
      "execution_count": 65,
      "outputs": []
    },
    {
      "cell_type": "code",
      "source": [
        "with open('file3','r') as b:\n",
        "  print(b.read())"
      ],
      "metadata": {
        "colab": {
          "base_uri": "https://localhost:8080/"
        },
        "id": "wKvck3SBTcgK",
        "outputId": "955d2eef-e40b-4cc3-9f31-6dfd9976b6de"
      },
      "execution_count": 66,
      "outputs": [
        {
          "output_type": "stream",
          "name": "stdout",
          "text": [
            "i\n",
            "want\n",
            "to\n",
            "become\n",
            "Data\n",
            "Scientist\n",
            "\n"
          ]
        }
      ]
    }
  ]
}