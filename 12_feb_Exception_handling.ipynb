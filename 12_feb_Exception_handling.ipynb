{
  "nbformat": 4,
  "nbformat_minor": 0,
  "metadata": {
    "colab": {
      "provenance": [],
      "authorship_tag": "ABX9TyMvrMg5Spu6PwiOaenmwJQM",
      "include_colab_link": true
    },
    "kernelspec": {
      "name": "python3",
      "display_name": "Python 3"
    },
    "language_info": {
      "name": "python"
    }
  },
  "cells": [
    {
      "cell_type": "markdown",
      "metadata": {
        "id": "view-in-github",
        "colab_type": "text"
      },
      "source": [
        "<a href=\"https://colab.research.google.com/github/karankeshav/python-assignment/blob/main/12_feb_Exception_handling.ipynb\" target=\"_parent\"><img src=\"https://colab.research.google.com/assets/colab-badge.svg\" alt=\"Open In Colab\"/></a>"
      ]
    },
    {
      "cell_type": "markdown",
      "source": [
        "#EXCEPTION HANDLNING"
      ],
      "metadata": {
        "id": "vr2-mnQJk_-8"
      }
    },
    {
      "cell_type": "markdown",
      "source": [
        "###Q1. What is the Exception in python?Write the difference between Exception and Synatx Error.\n",
        "\n",
        "\n",
        "###Ans.\n",
        "\n",
        "\n",
        "###Exception\n",
        "\n",
        "Exception occur when we execute some sort of code only if the code is not correct (and error shows during execution of code).\n",
        "\n",
        "An exception is an event,which occurs during the execution of a program that disrupt the normal flow of the program's instructions.\n",
        "\n",
        "In general ,where a Python script encounters a situation that it cannot cope with it,it raises an exception.An the exception is a Python object that represents an error.\n",
        "\n",
        "\n",
        "\n",
        "Syntax error is also a kind of error shown by compiler during compilation,or a code which could not understood by the compiler i.e Index Error,Value Error,ModuleNotFoundError.\n",
        "\n",
        "On the other hand exception is error while execution of the code, i.e Memory overflow,Database error."
      ],
      "metadata": {
        "id": "vWyGt_tPEmPP"
      }
    },
    {
      "cell_type": "markdown",
      "source": [
        "###Q2.What happens when an exception is not handled?Explain with an example?\n",
        "\n",
        "\n",
        "###Ans.\n",
        "\n",
        "It is very important to handle exception,the requirement for handling exception in python arises when an error occurs that can cause the program to terminate.Errors interrupt the flow of the programs as the point where they appear , so any further code stops executing.This error are called exeception.\n",
        "And there is also two more main reason behind the exception handling which is to enhance the experience of the user and to keep protecting the technical piece of information ,which is important."
      ],
      "metadata": {
        "id": "cLGF5ZkSJFfh"
      }
    },
    {
      "cell_type": "code",
      "source": [
        "with open('sample.txt','r') as a:\n",
        "  print(a.read())\n",
        "\n",
        "\n",
        "\n",
        "#here we are seeing FileNotFounderror,so it is required to use exception handling to enhance usere experience and also to protect the technical piece of code or information."
      ],
      "metadata": {
        "colab": {
          "base_uri": "https://localhost:8080/"
        },
        "id": "TFm-YnfyFUsL",
        "outputId": "0b26fa1b-b667-4c06-b9fe-3a3f3ef5065d"
      },
      "execution_count": null,
      "outputs": [
        {
          "output_type": "stream",
          "name": "stdout",
          "text": [
            "i want to become a data sceintist\n"
          ]
        }
      ]
    },
    {
      "cell_type": "markdown",
      "source": [
        "###Q3. Which Python statement are used to catch and handle exception?Expalin with an example.\n",
        "\n",
        "\n",
        "###Ans.\n",
        "\n",
        "In Python, try and except is used to catch and handle exception.\n",
        "\n",
        "In try we put the code that can cause the error and in except we write a code to handle exception,or to show error.Apart of it there is also some more blocks like finally and  else for exception handling.\n",
        "\n",
        "Let us see some example below.."
      ],
      "metadata": {
        "id": "qQq85pXFD7n0"
      }
    },
    {
      "cell_type": "code",
      "source": [
        "#let's craete a file first\n",
        "\n",
        "with open('sample.txt','w') as a:\n",
        "  a.write('i want to become data sceintist')\n",
        "\n",
        "#In case you try to open a existing file..\n",
        "try:\n",
        "  a= open('sample.txt','r') \n",
        "  print('wait..we are trying to found your file..')\n",
        "except Exception as e:\n",
        "  print(e)\n",
        "else:\n",
        "  print('your file is loading.....wait! ')\n",
        "  print(a.read())"
      ],
      "metadata": {
        "colab": {
          "base_uri": "https://localhost:8080/"
        },
        "id": "1V1oDu8PjB5S",
        "outputId": "78abd2be-43fd-4cdd-daf3-d65474ede17d"
      },
      "execution_count": null,
      "outputs": [
        {
          "output_type": "stream",
          "name": "stdout",
          "text": [
            "wait..we are trying to found your file..\n",
            "your file is loading.....wait! \n",
            "i want to become data sceintist\n"
          ]
        }
      ]
    },
    {
      "cell_type": "code",
      "source": [
        "#in case you try to open a file which is not exit..\n",
        "try:\n",
        "  a=open('sample1.txt','r')\n",
        "except Exception as e:\n",
        "  print(e)"
      ],
      "metadata": {
        "colab": {
          "base_uri": "https://localhost:8080/"
        },
        "id": "2QQ1-_tIjCQB",
        "outputId": "06863a61-2834-429c-e296-efb1234b1f2d"
      },
      "execution_count": null,
      "outputs": [
        {
          "output_type": "stream",
          "name": "stdout",
          "text": [
            "[Errno 2] No such file or directory: 'sample1.txt'\n"
          ]
        }
      ]
    },
    {
      "cell_type": "markdown",
      "source": [
        "###Q4.Expalin with an example..\n",
        "\n",
        "a. try and else\n",
        "\n",
        "b.finally\n",
        "\n",
        "c.raise\n",
        "\n",
        "###Ans."
      ],
      "metadata": {
        "id": "m3uzBi3zEWSM"
      }
    },
    {
      "cell_type": "code",
      "source": [
        "#try and else\n",
        "#In exception handling if try condition is satisfied then whatever written in else execute automatically...\n",
        "\n",
        "try:\n",
        "  a=int(input('enter any number: '))\n",
        "  b=int(input('enter any number: '))\n",
        "  result=a/b \n",
        "  print(result)\n",
        "except ZeroDivisionError:\n",
        "  print('Exception:1->denominator cant be zero')\n",
        "except ValueError:\n",
        "  print('Execption:2->both the nunber should be integer')\n",
        "else:\n",
        "  print('no error found')\n"
      ],
      "metadata": {
        "colab": {
          "base_uri": "https://localhost:8080/"
        },
        "id": "ZO8L64HKErUq",
        "outputId": "6092934f-f114-48b1-cdad-ae6fb403bf1e"
      },
      "execution_count": null,
      "outputs": [
        {
          "output_type": "stream",
          "name": "stdout",
          "text": [
            "enter any number: 7\n",
            "enter any number: 8\n",
            "0.875\n",
            "no error found\n"
          ]
        }
      ]
    },
    {
      "cell_type": "code",
      "source": [
        "try:\n",
        "  a=int(input('enter any number: '))\n",
        "  b=int(input('enter any number: '))\n",
        "  result=a/b \n",
        "  print(result)\n",
        "except ZeroDivisionError:\n",
        "  print('Exception:1->denominator cant be zero')\n",
        "except ValueError:\n",
        "  print('Execption:2->both the nunber should be integer')\n",
        "else:\n",
        "  print('no error found')\n",
        "\n",
        "finally:\n",
        "  print('divison completed')     #whatever written in finally will execute definitely at the end\n"
      ],
      "metadata": {
        "id": "cJ6S-SbPXgCD"
      },
      "execution_count": null,
      "outputs": []
    },
    {
      "cell_type": "code",
      "source": [
        "try:\n",
        "  a=int(input('enter any number: '))\n",
        "  b=int(input('enter any number: '))\n",
        "  result=a/b \n",
        "  print(result)\n",
        "  if b==0:\n",
        "    raise ZeroDivisionError\n",
        "  elif type(a)!=int and type(b)!=int:\n",
        "    raise ValueError\n",
        "\n",
        "except Exception as e:\n",
        "  print(e)\n"
      ],
      "metadata": {
        "colab": {
          "base_uri": "https://localhost:8080/"
        },
        "id": "auNvS-uxX_1L",
        "outputId": "e006ab30-3b59-43c5-b6ee-ca10e561064f"
      },
      "execution_count": null,
      "outputs": [
        {
          "output_type": "stream",
          "name": "stdout",
          "text": [
            "enter any number: 9\n",
            "enter any number: 0\n",
            "division by zero\n"
          ]
        }
      ]
    },
    {
      "cell_type": "markdown",
      "source": [
        "###Q5.What is Custom Exception in Python?Why do we need Custom Exception?Explain with an example?\n",
        "\n",
        "\n",
        "###Ans.\n",
        "\n",
        "In Python,we can define exceptions by creating a new class that is derived from the built-in Exception class.Custom Exception is user defined exception,which can be created by the user for EXception Handling for their program.It is necessary if a programmer build or write a code and required some exception which is not offered by the Python,in that case a programmer can create their own exception.It is called Custom Exception.\n",
        "\n",
        "let us see exampple of it..."
      ],
      "metadata": {
        "id": "qLm9v08tZc6L"
      }
    },
    {
      "cell_type": "code",
      "source": [
        "class validateage(Exception):\n",
        "  def __init__(self,msg):\n",
        "    self.msg=msg\n",
        "\n",
        "try:\n",
        "  age=(input('enter your age:  '))\n",
        "  if int(age)>=112:\n",
        "    raise validateage('This age is not possible to consider')\n",
        "  elif int(age)<0 and int(age)<10:\n",
        "    raise validateage('invalid age you entered')\n",
        "  elif type(age)==str:\n",
        "    raise validateage('Bhai kya kar raha hai tu')\n",
        "except validateage as e:\n",
        "  print(e)\n",
        "except Exception as e:\n",
        "  print(e)\n",
        "\n",
        "else:\n",
        "  print('age is valid')\n",
        "  print('Thank you!')\n"
      ],
      "metadata": {
        "colab": {
          "base_uri": "https://localhost:8080/"
        },
        "id": "zYm8nMmtfMUZ",
        "outputId": "b47bb92b-977e-4fdd-95b0-bd1227c30f5e"
      },
      "execution_count": null,
      "outputs": [
        {
          "output_type": "stream",
          "name": "stdout",
          "text": [
            "enter your age:  uhhh\n",
            "invalid literal for int() with base 10: 'uhhh'\n"
          ]
        }
      ]
    },
    {
      "cell_type": "markdown",
      "source": [
        "###Q6. Create a custom exception class.Use this class to handle exception.\n",
        "\n",
        "\n",
        "###Ans."
      ],
      "metadata": {
        "id": "109J1Q-DlYyw"
      }
    },
    {
      "cell_type": "code",
      "source": [
        "#infinite sum of even number\n",
        "\n",
        "class error(Exception):\n",
        "  def __init__(self,msg):\n",
        "    self.msg=msg\n",
        "\n",
        "try:\n",
        "  sum=0\n",
        "  while True:\n",
        "    number=int(input('enter any even number: '))\n",
        "    if number%2==0:\n",
        "      sum=sum+number\n",
        "\n",
        "    elif number%2!=0:\n",
        "      raise error('entered number is not even number')\n",
        "    else:\n",
        "      raise error('bhai kya kar raha hai tu')\n",
        "    \n",
        "\n",
        "except error as e:\n",
        "  print(e)\n",
        "except Exception as e:\n",
        "  print(e)\n",
        "finally:\n",
        "  print(sum)\n"
      ],
      "metadata": {
        "colab": {
          "base_uri": "https://localhost:8080/"
        },
        "id": "LWXlK3iPb8V1",
        "outputId": "060796f3-f22d-43ef-ebf2-3ac79a33ddf7"
      },
      "execution_count": 7,
      "outputs": [
        {
          "output_type": "stream",
          "name": "stdout",
          "text": [
            "enter any even number: 7\n",
            "entered number is not even number\n",
            "0\n"
          ]
        }
      ]
    }
  ]
}