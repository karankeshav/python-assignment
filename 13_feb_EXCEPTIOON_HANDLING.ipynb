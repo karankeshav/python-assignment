{
  "nbformat": 4,
  "nbformat_minor": 0,
  "metadata": {
    "colab": {
      "provenance": [],
      "authorship_tag": "ABX9TyPAi+b35Ecqf/wsHkjgzbrW",
      "include_colab_link": true
    },
    "kernelspec": {
      "name": "python3",
      "display_name": "Python 3"
    },
    "language_info": {
      "name": "python"
    }
  },
  "cells": [
    {
      "cell_type": "markdown",
      "metadata": {
        "id": "view-in-github",
        "colab_type": "text"
      },
      "source": [
        "<a href=\"https://colab.research.google.com/github/karankeshav/python-assignment/blob/main/13_feb_EXCEPTIOON_HANDLING.ipynb\" target=\"_parent\"><img src=\"https://colab.research.google.com/assets/colab-badge.svg\" alt=\"Open In Colab\"/></a>"
      ]
    },
    {
      "cell_type": "markdown",
      "source": [
        "#EXCEPTION HANDLING ASSIGNMENT"
      ],
      "metadata": {
        "id": "eytyeC0s-Th3"
      }
    },
    {
      "cell_type": "markdown",
      "source": [
        "###Q1. Explain why we have to use the Exception class while creating a Custom Exception.\n",
        "\n",
        "\n",
        "###Ans.\n",
        "\n",
        "Built-in exception offer information about Python related problems and custom exceptions will add information about project-related problems.Having custom exception-talored to your specific use cases and that you can raise and catch in specific circumstances.\n",
        "\n",
        "Exception class contain all type of exception,errors that can be rise while programming,in other words also Execption is a base class which is always be a parent class of created custom(child) class.So we use Exception class to make our own custom for ease,to avoid code complexity."
      ],
      "metadata": {
        "id": "GVQbbrqg-XzL"
      }
    },
    {
      "cell_type": "markdown",
      "source": [
        "###Q2. Write a python program to print Python Exception Hierarchy.\n",
        "\n",
        "###Ans."
      ],
      "metadata": {
        "id": "siTFYc4jACp7"
      }
    },
    {
      "cell_type": "code",
      "source": [
        "print('WELCOME TO PYTHON EXCEPTION HIERARCHY PROGRAM')\n",
        "user_input=int(input('''\n",
        "1.Press 1 to contiue\n",
        "2.Press 2 to exit\n",
        "'''))  \n",
        "if user_input==1:\n",
        "  print('''\n",
        "  Base Exception are of two types..\n",
        "  1.Exception\n",
        "  2.Keyboard Interuppt\n",
        "  \n",
        "  and further EXCEPTION have types:\n",
        "\n",
        "   EXCEPTION-->\n",
        "\n",
        "  1) Attribute Error\n",
        "\n",
        "  2) Arithmetic Error\n",
        "                      - Floating Point Error\n",
        "                      - Overflow Error\n",
        "                      - Zero Division Error\n",
        "\n",
        "  3) EOF Error\n",
        "\n",
        "  4) Name Error\n",
        "\n",
        "  5) LookupError\n",
        "                      - Index Error\n",
        "                      - Key Error\n",
        "\n",
        "  6) Stop Iteration\n",
        "\n",
        "  7) OS Error\n",
        "                      -File Exists Error\n",
        "                      - Permission Error\n",
        "\n",
        "  8) Type Error\n",
        "\n",
        "  9) Value Error''')\n",
        "\n",
        "else:\n",
        "  exit()"
      ],
      "metadata": {
        "colab": {
          "base_uri": "https://localhost:8080/"
        },
        "id": "OaGuTYalJKUO",
        "outputId": "5dbe646a-190c-4112-c49c-5e3a3e491915"
      },
      "execution_count": 1,
      "outputs": [
        {
          "output_type": "stream",
          "name": "stdout",
          "text": [
            "WELCOME TO PYTHON EXCEPTION HIERARCHY PROGRAM\n",
            "\n",
            "1.Press 1 to contiue\n",
            "2.Press 2 to exit\n",
            "1\n",
            "\n",
            "  Base Exception are of two types..\n",
            "  1.Exception\n",
            "  2.Keyboard Interuppt\n",
            "  \n",
            "  and further EXCEPTION have types:\n",
            "\n",
            "   EXCEPTION-->\n",
            "\n",
            "  1) Attribte Erro\n",
            "\n",
            "  2) Arithmetic Error\n",
            "                      - Floating Point Error\n",
            "                      - Overflow Error\n",
            "                      - Zero Division Error\n",
            "\n",
            "  3) EOF Error\n",
            "\n",
            "  4) Name Error\n",
            "\n",
            "  5) LookupError\n",
            "                      - Index Error\n",
            "                      - Key Error\n",
            "\n",
            "  6) Stop Iteration\n",
            "\n",
            "  7) OS Error\n",
            "                      -File Exists Error\n",
            "                      - Permission Error\n",
            "\n",
            "  8) Type Error\n",
            "  \n",
            "  9) Value Error\n"
          ]
        }
      ]
    },
    {
      "cell_type": "markdown",
      "source": [
        "###Q3. What errors are defined in the ArithmeticError class? Explain any two with an example.\n",
        "\n",
        "###Ans.\n",
        "\n",
        "\n",
        "ArithmeticError is simply an errors that occurs during numeric calculations.\n",
        "\n",
        "ArithmeticError is of three types...\n",
        "\n",
        "\n",
        "1) Floating Point Error:Floating Point Exception is an error that occurs when you try to do somethng impossible with a floating point number.\n",
        "\n",
        "2) Overflow Error:In Python,Overflow occurs when any operation like arithmetic operation or any other variable storing any value above its limit then there occurs an overflow of value that will exceeds its specified or already defined limit.\n",
        "\n",
        "\n",
        "\n",
        "3) Zero Division Error:It comes into play when we tries to divide a number by 0.\n",
        "\n",
        "Let us see some example of them..."
      ],
      "metadata": {
        "id": "QnEjTD_RAJ_s"
      }
    },
    {
      "cell_type": "code",
      "source": [
        "#ZERO DIVISION ERROR\n",
        "a=10\n",
        "b=0\n",
        "print(a/b)"
      ],
      "metadata": {
        "colab": {
          "base_uri": "https://localhost:8080/",
          "height": 205
        },
        "id": "s7JbeUiuBH3c",
        "outputId": "443a69a6-ca85-413d-c1ff-f0f0372c4fac"
      },
      "execution_count": 2,
      "outputs": [
        {
          "output_type": "error",
          "ename": "ZeroDivisionError",
          "evalue": "ignored",
          "traceback": [
            "\u001b[0;31m---------------------------------------------------------------------------\u001b[0m",
            "\u001b[0;31mZeroDivisionError\u001b[0m                         Traceback (most recent call last)",
            "\u001b[0;32m<ipython-input-2-aca3d4339ec2>\u001b[0m in \u001b[0;36m<cell line: 4>\u001b[0;34m()\u001b[0m\n\u001b[1;32m      2\u001b[0m \u001b[0ma\u001b[0m\u001b[0;34m=\u001b[0m\u001b[0;36m10\u001b[0m\u001b[0;34m\u001b[0m\u001b[0;34m\u001b[0m\u001b[0m\n\u001b[1;32m      3\u001b[0m \u001b[0mb\u001b[0m\u001b[0;34m=\u001b[0m\u001b[0;36m0\u001b[0m\u001b[0;34m\u001b[0m\u001b[0;34m\u001b[0m\u001b[0m\n\u001b[0;32m----> 4\u001b[0;31m \u001b[0mprint\u001b[0m\u001b[0;34m(\u001b[0m\u001b[0ma\u001b[0m\u001b[0;34m/\u001b[0m\u001b[0mb\u001b[0m\u001b[0;34m)\u001b[0m\u001b[0;34m\u001b[0m\u001b[0;34m\u001b[0m\u001b[0m\n\u001b[0m",
            "\u001b[0;31mZeroDivisionError\u001b[0m: division by zero"
          ]
        }
      ]
    },
    {
      "cell_type": "code",
      "source": [
        "a=2.7\n",
        "print(a/90)"
      ],
      "metadata": {
        "colab": {
          "base_uri": "https://localhost:8080/"
        },
        "id": "Mda13sSmDqL5",
        "outputId": "66994ed0-fa67-492a-a59b-19f9e507d929"
      },
      "execution_count": 4,
      "outputs": [
        {
          "output_type": "stream",
          "name": "stdout",
          "text": [
            "0.030000000000000002\n"
          ]
        }
      ]
    },
    {
      "cell_type": "code",
      "source": [
        "#FLOATING POINT ERROR\n",
        "1.2-1.0"
      ],
      "metadata": {
        "colab": {
          "base_uri": "https://localhost:8080/"
        },
        "id": "DqbPjxS0EOvT",
        "outputId": "30dec4c3-b85b-4b0b-f5d0-647680e9570b"
      },
      "execution_count": 1,
      "outputs": [
        {
          "output_type": "execute_result",
          "data": {
            "text/plain": [
              "0.19999999999999996"
            ]
          },
          "metadata": {},
          "execution_count": 1
        }
      ]
    },
    {
      "cell_type": "code",
      "source": [
        "#OVERFLOW ERROR\n",
        "import math \n",
        "print(math.exp(1000))"
      ],
      "metadata": {
        "colab": {
          "base_uri": "https://localhost:8080/",
          "height": 205
        },
        "id": "KGlfMgjgEOlS",
        "outputId": "9d965a1b-8cf9-427e-8534-6d59dceaa133"
      },
      "execution_count": 4,
      "outputs": [
        {
          "output_type": "error",
          "ename": "OverflowError",
          "evalue": "ignored",
          "traceback": [
            "\u001b[0;31m---------------------------------------------------------------------------\u001b[0m",
            "\u001b[0;31mOverflowError\u001b[0m                             Traceback (most recent call last)",
            "\u001b[0;32m<ipython-input-4-1edb4cc138d4>\u001b[0m in \u001b[0;36m<cell line: 3>\u001b[0;34m()\u001b[0m\n\u001b[1;32m      1\u001b[0m \u001b[0;31m#OVERFLOW ERROR\u001b[0m\u001b[0;34m\u001b[0m\u001b[0;34m\u001b[0m\u001b[0m\n\u001b[1;32m      2\u001b[0m \u001b[0;32mimport\u001b[0m \u001b[0mmath\u001b[0m\u001b[0;34m\u001b[0m\u001b[0;34m\u001b[0m\u001b[0m\n\u001b[0;32m----> 3\u001b[0;31m \u001b[0mprint\u001b[0m\u001b[0;34m(\u001b[0m\u001b[0mmath\u001b[0m\u001b[0;34m.\u001b[0m\u001b[0mexp\u001b[0m\u001b[0;34m(\u001b[0m\u001b[0;36m1000\u001b[0m\u001b[0;34m)\u001b[0m\u001b[0;34m)\u001b[0m\u001b[0;34m\u001b[0m\u001b[0;34m\u001b[0m\u001b[0m\n\u001b[0m",
            "\u001b[0;31mOverflowError\u001b[0m: math range error"
          ]
        }
      ]
    },
    {
      "cell_type": "markdown",
      "source": [
        "###Q4. Why LookupError class is used? Explain with an example KeyError and IndexError.\n",
        "\n",
        "\n",
        "###Ans.\n",
        "\n",
        "LookupError Exception is the base class for erros raised when something can not be found.The base class for the exceptions that are raised when a key or index used on a mapping or sequence is invalid.\n",
        "\n",
        "In other words LookupError exception on Python forms the base class for all excepton that are raised when index or a key is not found for sequnce or dictionary respectively.LookupError exception class to handle both IndexError and KeyError exception classes."
      ],
      "metadata": {
        "id": "sP0qxN8uEX5I"
      }
    },
    {
      "cell_type": "code",
      "source": [
        "#IndexError:when you try to get something beyound your code index\n",
        "a=[1,2,3]\n",
        "print(a[5])"
      ],
      "metadata": {
        "colab": {
          "base_uri": "https://localhost:8080/",
          "height": 205
        },
        "id": "J8iSQPwHFn_2",
        "outputId": "ac2becb3-8770-4626-d465-d107788869cc"
      },
      "execution_count": 5,
      "outputs": [
        {
          "output_type": "error",
          "ename": "IndexError",
          "evalue": "ignored",
          "traceback": [
            "\u001b[0;31m---------------------------------------------------------------------------\u001b[0m",
            "\u001b[0;31mIndexError\u001b[0m                                Traceback (most recent call last)",
            "\u001b[0;32m<ipython-input-5-d924c48b0e9c>\u001b[0m in \u001b[0;36m<cell line: 3>\u001b[0;34m()\u001b[0m\n\u001b[1;32m      1\u001b[0m \u001b[0;31m#INDEXERROR\u001b[0m\u001b[0;34m\u001b[0m\u001b[0;34m\u001b[0m\u001b[0m\n\u001b[1;32m      2\u001b[0m \u001b[0ma\u001b[0m\u001b[0;34m=\u001b[0m\u001b[0;34m[\u001b[0m\u001b[0;36m1\u001b[0m\u001b[0;34m,\u001b[0m\u001b[0;36m2\u001b[0m\u001b[0;34m,\u001b[0m\u001b[0;36m3\u001b[0m\u001b[0;34m]\u001b[0m\u001b[0;34m\u001b[0m\u001b[0;34m\u001b[0m\u001b[0m\n\u001b[0;32m----> 3\u001b[0;31m \u001b[0mprint\u001b[0m\u001b[0;34m(\u001b[0m\u001b[0ma\u001b[0m\u001b[0;34m[\u001b[0m\u001b[0;36m5\u001b[0m\u001b[0;34m]\u001b[0m\u001b[0;34m)\u001b[0m\u001b[0;34m\u001b[0m\u001b[0;34m\u001b[0m\u001b[0m\n\u001b[0m",
            "\u001b[0;31mIndexError\u001b[0m: list index out of range"
          ]
        }
      ]
    },
    {
      "cell_type": "code",
      "source": [
        "#KeyError: when you try to get a key which does not exit\n",
        "a={'name':'karan','age':23}\n",
        "print(a[3])"
      ],
      "metadata": {
        "colab": {
          "base_uri": "https://localhost:8080/",
          "height": 205
        },
        "id": "ZdtZvEYcFvQ9",
        "outputId": "63b96105-a930-4575-d4a1-9404525a9f4b"
      },
      "execution_count": 6,
      "outputs": [
        {
          "output_type": "error",
          "ename": "KeyError",
          "evalue": "ignored",
          "traceback": [
            "\u001b[0;31m---------------------------------------------------------------------------\u001b[0m",
            "\u001b[0;31mKeyError\u001b[0m                                  Traceback (most recent call last)",
            "\u001b[0;32m<ipython-input-6-b5283e62e128>\u001b[0m in \u001b[0;36m<cell line: 3>\u001b[0;34m()\u001b[0m\n\u001b[1;32m      1\u001b[0m \u001b[0;31m#KeyError\u001b[0m\u001b[0;34m\u001b[0m\u001b[0;34m\u001b[0m\u001b[0m\n\u001b[1;32m      2\u001b[0m \u001b[0ma\u001b[0m\u001b[0;34m=\u001b[0m\u001b[0;34m{\u001b[0m\u001b[0;34m'name'\u001b[0m\u001b[0;34m:\u001b[0m\u001b[0;34m'karan'\u001b[0m\u001b[0;34m,\u001b[0m\u001b[0;34m'age'\u001b[0m\u001b[0;34m:\u001b[0m\u001b[0;36m23\u001b[0m\u001b[0;34m}\u001b[0m\u001b[0;34m\u001b[0m\u001b[0;34m\u001b[0m\u001b[0m\n\u001b[0;32m----> 3\u001b[0;31m \u001b[0mprint\u001b[0m\u001b[0;34m(\u001b[0m\u001b[0ma\u001b[0m\u001b[0;34m[\u001b[0m\u001b[0;36m3\u001b[0m\u001b[0;34m]\u001b[0m\u001b[0;34m)\u001b[0m\u001b[0;34m\u001b[0m\u001b[0;34m\u001b[0m\u001b[0m\n\u001b[0m",
            "\u001b[0;31mKeyError\u001b[0m: 3"
          ]
        }
      ]
    },
    {
      "cell_type": "markdown",
      "source": [
        "###Q5. Explain ImportError. What is ModuleNotFoundError?\n",
        "\n",
        "\n",
        "###Ans.\n",
        "\n",
        "This errros generally occurs when a class cannot be imported due to one of the following reason:The imported class is in a circular dependency .The imported class is unvailable or was not created.The imported class name is misspelled.The imported class from a module is misplaced.\n",
        "\n",
        "In other words ImportError occurs when the python programme tries to import module which does not exist in the private table.\n",
        "\n",
        "ModuleNotFoundError is the error which comes into picture ,when you tries to importing a module which has no existence."
      ],
      "metadata": {
        "id": "vS3LsELiGntf"
      }
    },
    {
      "cell_type": "code",
      "source": [
        "#ModuleNotFoundError\n",
        "import karan\n",
        "print('hey')"
      ],
      "metadata": {
        "colab": {
          "base_uri": "https://localhost:8080/",
          "height": 348
        },
        "id": "uMS_cKdDILv9",
        "outputId": "f0c98430-b569-4dbf-cc9d-dc51f30d2a9c"
      },
      "execution_count": 7,
      "outputs": [
        {
          "output_type": "error",
          "ename": "ModuleNotFoundError",
          "evalue": "ignored",
          "traceback": [
            "\u001b[0;31m---------------------------------------------------------------------------\u001b[0m",
            "\u001b[0;31mModuleNotFoundError\u001b[0m                       Traceback (most recent call last)",
            "\u001b[0;32m<ipython-input-7-f9c1d46725ee>\u001b[0m in \u001b[0;36m<cell line: 2>\u001b[0;34m()\u001b[0m\n\u001b[1;32m      1\u001b[0m \u001b[0;31m#ModuleNotFoundError\u001b[0m\u001b[0;34m\u001b[0m\u001b[0;34m\u001b[0m\u001b[0m\n\u001b[0;32m----> 2\u001b[0;31m \u001b[0;32mimport\u001b[0m \u001b[0mkaran\u001b[0m\u001b[0;34m\u001b[0m\u001b[0;34m\u001b[0m\u001b[0m\n\u001b[0m\u001b[1;32m      3\u001b[0m \u001b[0mprint\u001b[0m\u001b[0;34m(\u001b[0m\u001b[0;34m'hey'\u001b[0m\u001b[0;34m)\u001b[0m\u001b[0;34m\u001b[0m\u001b[0;34m\u001b[0m\u001b[0m\n",
            "\u001b[0;31mModuleNotFoundError\u001b[0m: No module named 'karan'",
            "",
            "\u001b[0;31m---------------------------------------------------------------------------\u001b[0;32m\nNOTE: If your import is failing due to a missing package, you can\nmanually install dependencies using either !pip or !apt.\n\nTo view examples of installing some common dependencies, click the\n\"Open Examples\" button below.\n\u001b[0;31m---------------------------------------------------------------------------\u001b[0m\n"
          ],
          "errorDetails": {
            "actions": [
              {
                "action": "open_url",
                "actionText": "Open Examples",
                "url": "/notebooks/snippets/importing_libraries.ipynb"
              }
            ]
          }
        }
      ]
    },
    {
      "cell_type": "markdown",
      "source": [
        "###Q6. List down some best practices for exception handling in python.\n",
        "\n",
        "\n",
        "###Ans."
      ],
      "metadata": {
        "id": "AV2V42DjIpis"
      }
    },
    {
      "cell_type": "code",
      "source": [
        "#let us make a program which will tell user have right to vote or not!!!\n",
        "class error(Exception):\n",
        "  def __init__(self,msg):\n",
        "    self.msg=msg\n",
        "try:\n",
        "  age=int(input('your age?: '))\n",
        "  if age>=18:\n",
        "    if age>=100:\n",
        "      raise error('please enter valid age')\n",
        "    elif age<=0:\n",
        "      raise error('bhai kya kar raha tu') \n",
        "  elif age<18:\n",
        "    result1='You are not eligible to vote'\n",
        "    if age<0:\n",
        "      raise error ('bhai kya kar raha tu')\n",
        "except error as a:\n",
        "  print(a)\n",
        "except Exception as e:\n",
        "  print(e)\n",
        "else:\n",
        "  print('your age is correct')\n",
        "finally:\n",
        "  if age>=18 and age>0 and age<=100:\n",
        "    print('You are eligible to vote')\n",
        "  else:\n",
        "    print('You are not eligible to vote')"
      ],
      "metadata": {
        "colab": {
          "base_uri": "https://localhost:8080/"
        },
        "id": "JUrYI6ncJW8h",
        "outputId": "48097cd6-fd50-4f67-f40e-ec9eeb1025f5"
      },
      "execution_count": 5,
      "outputs": [
        {
          "output_type": "stream",
          "name": "stdout",
          "text": [
            "your age?: 999\n",
            "please enter valid age\n",
            "You are not eligible to vote\n"
          ]
        }
      ]
    }
  ]
}