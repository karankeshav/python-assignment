{
  "nbformat": 4,
  "nbformat_minor": 0,
  "metadata": {
    "colab": {
      "provenance": [],
      "authorship_tag": "ABX9TyMNcHwcOTm0qyR5QV9SaPpk",
      "include_colab_link": true
    },
    "kernelspec": {
      "name": "python3",
      "display_name": "Python 3"
    },
    "language_info": {
      "name": "python"
    }
  },
  "cells": [
    {
      "cell_type": "markdown",
      "metadata": {
        "id": "view-in-github",
        "colab_type": "text"
      },
      "source": [
        "<a href=\"https://colab.research.google.com/github/karankeshav/python-assignment/blob/main/26_feb_numpy_assignment.ipynb\" target=\"_parent\"><img src=\"https://colab.research.google.com/assets/colab-badge.svg\" alt=\"Open In Colab\"/></a>"
      ]
    },
    {
      "cell_type": "markdown",
      "source": [
        "NUMPY ASSIGNMENT"
      ],
      "metadata": {
        "id": "OqG840nUnMs7"
      }
    },
    {
      "cell_type": "markdown",
      "source": [
        "###Consider the below code to answer further questions:\n",
        "import numpy as np\n",
        "\n",
        "\n",
        "list_ = [ ‘1’ , ’2’ , ‘3’ , ‘4’ , ‘5’ ]\n",
        "\n",
        "\n",
        "array_list = np.array(object = list_)"
      ],
      "metadata": {
        "id": "dLfNg11cnR9q"
      }
    },
    {
      "cell_type": "markdown",
      "source": [
        "###Q1. Is there any difference in the data type of variables list_ and array_list? If there is then write a code to print the data types of both the variables."
      ],
      "metadata": {
        "id": "EJQugeHrnXpY"
      }
    },
    {
      "cell_type": "markdown",
      "source": [
        "###Ans.\n",
        "Yes, there is difference between list_ and array_list.\n",
        "list_ is noramal datatype(list) whereas array_list is numpy data type which is fast and consume less memory than normal datatype.\n",
        "\n"
      ],
      "metadata": {
        "id": "uWSYobhYnk6G"
      }
    },
    {
      "cell_type": "code",
      "execution_count": 4,
      "metadata": {
        "colab": {
          "base_uri": "https://localhost:8080/"
        },
        "id": "HXZTrENNm2h3",
        "outputId": "2c8537f1-c3ef-40e2-e591-45261fe4f0a3"
      },
      "outputs": [
        {
          "output_type": "stream",
          "name": "stdout",
          "text": [
            "['1', '2', '3', '4', '5'] <class 'list'>\n",
            "['1' '2' '3' '4' '5'] <class 'numpy.ndarray'>\n"
          ]
        }
      ],
      "source": [
        "import numpy as np\n",
        "list_=[  '1' , '2', '3' , '4' , '5' ]\n",
        "array_list=np.array([  '1' , '2' , '3' , '4' , '5' ])\n",
        "print(list_,type(list_))\n",
        "print(array_list,type(array_list))"
      ]
    },
    {
      "cell_type": "markdown",
      "source": [
        "###Q2. Write a code to print the data type of each and every element of both the variables list_ and array_list.\n",
        "\n",
        "\n",
        "###Ans.\n"
      ],
      "metadata": {
        "id": "BloT9okupa_V"
      }
    },
    {
      "cell_type": "code",
      "source": [
        "list_=['1','2','3','4','5']\n",
        "array_list=np.array(['1','2','3','4','5'])\n",
        "for i in list_:\n",
        "  print(i,type(i))\n",
        "for i in array_list:\n",
        "  print(i,type(i))"
      ],
      "metadata": {
        "colab": {
          "base_uri": "https://localhost:8080/"
        },
        "id": "-lWe2Q5Qpaoe",
        "outputId": "47f23d51-4918-4c47-de7f-b8be7981ea78"
      },
      "execution_count": 25,
      "outputs": [
        {
          "output_type": "stream",
          "name": "stdout",
          "text": [
            "1 <class 'str'>\n",
            "2 <class 'str'>\n",
            "3 <class 'str'>\n",
            "4 <class 'str'>\n",
            "5 <class 'str'>\n",
            "1 <class 'numpy.str_'>\n",
            "2 <class 'numpy.str_'>\n",
            "3 <class 'numpy.str_'>\n",
            "4 <class 'numpy.str_'>\n",
            "5 <class 'numpy.str_'>\n"
          ]
        }
      ]
    },
    {
      "cell_type": "markdown",
      "source": [
        "###Q3. Considering the following changes in the variable, array_list:\n",
        "\n",
        "array_list = np.array(object = list_, dtype = int)\n",
        "\n",
        "Will there be any difference in the data type of the elements present in both the variables, list_ and\n",
        "arra_list? If so then print the data types of each and every element present in both the variables, list_\n",
        "and arra_list."
      ],
      "metadata": {
        "id": "LZYoR1J7tMjS"
      }
    },
    {
      "cell_type": "code",
      "source": [
        "list_=[1,2,3,4,5]\n",
        "array_list=np.array([1,2,3,4,5])\n",
        "\n",
        "#Yes,there is differnce in datatype of above list_ and array_list\n",
        "\n",
        "'let us see in brief through  coding below'"
      ],
      "metadata": {
        "colab": {
          "base_uri": "https://localhost:8080/",
          "height": 36
        },
        "id": "tMIBnqw-tuZa",
        "outputId": "942196ad-096d-4505-fb3c-84c7062954c2"
      },
      "execution_count": 26,
      "outputs": [
        {
          "output_type": "execute_result",
          "data": {
            "text/plain": [
              "'let us see in brief through  coding below'"
            ],
            "application/vnd.google.colaboratory.intrinsic+json": {
              "type": "string"
            }
          },
          "metadata": {},
          "execution_count": 26
        }
      ]
    },
    {
      "cell_type": "code",
      "source": [
        "for i in list_:\n",
        "  print(i,type(i))\n",
        "\n",
        "for i in array_list:\n",
        "  print(i,type(i))"
      ],
      "metadata": {
        "colab": {
          "base_uri": "https://localhost:8080/"
        },
        "id": "mv19t7DSuQAh",
        "outputId": "401095f1-f59f-4c03-dbc2-9c4434d3c22c"
      },
      "execution_count": 27,
      "outputs": [
        {
          "output_type": "stream",
          "name": "stdout",
          "text": [
            "1 <class 'int'>\n",
            "2 <class 'int'>\n",
            "3 <class 'int'>\n",
            "4 <class 'int'>\n",
            "5 <class 'int'>\n",
            "1 <class 'numpy.int64'>\n",
            "2 <class 'numpy.int64'>\n",
            "3 <class 'numpy.int64'>\n",
            "4 <class 'numpy.int64'>\n",
            "5 <class 'numpy.int64'>\n"
          ]
        }
      ]
    },
    {
      "cell_type": "markdown",
      "source": [
        "Consider the below code to answer further questions:\n",
        "\n",
        "import numpy as np\n",
        "\n",
        "num_list = [ [ 1 , 2 , 3 ] , [ 4 , 5 , 6 ] ]\n",
        "\n",
        "num_array = np.array(object = num_list)"
      ],
      "metadata": {
        "id": "RGWGZASAqyuO"
      }
    },
    {
      "cell_type": "markdown",
      "source": [
        "###Q4. Write a code to find the following characteristics of variable, num_array:\n",
        "(i) shape\n",
        "\n",
        "(ii) size\n",
        "\n",
        "\n",
        "###Ans.\n"
      ],
      "metadata": {
        "id": "KR4IXaWrqkAe"
      }
    },
    {
      "cell_type": "code",
      "source": [
        "num_list=[[1,2,3],[4,5,6]]\n",
        "num_array=np.array(([1,2,3],[4,5,6]))\n",
        "print(num_array.shape)\n",
        "print(num_array.size)"
      ],
      "metadata": {
        "colab": {
          "base_uri": "https://localhost:8080/"
        },
        "id": "LSfc9TkTq5YO",
        "outputId": "c5176262-b649-422b-9be2-c840f056794b"
      },
      "execution_count": 15,
      "outputs": [
        {
          "output_type": "stream",
          "name": "stdout",
          "text": [
            "(2, 3)\n",
            "6\n"
          ]
        }
      ]
    },
    {
      "cell_type": "markdown",
      "source": [
        "###Q5. Write a code to create numpy array of 3*3 matrix containing zeros only, using a numpy array creation function.\n",
        "\n",
        "\n",
        "###Ans."
      ],
      "metadata": {
        "id": "jLpljeBPsFAJ"
      }
    },
    {
      "cell_type": "code",
      "source": [
        "import numpy as np\n",
        "array=np.zeros((3,3))\n",
        "array"
      ],
      "metadata": {
        "colab": {
          "base_uri": "https://localhost:8080/"
        },
        "id": "Zrv61VZjsOaE",
        "outputId": "e1a42c2d-8d93-407e-d6ca-3fd67246751f"
      },
      "execution_count": 18,
      "outputs": [
        {
          "output_type": "execute_result",
          "data": {
            "text/plain": [
              "array([[0., 0., 0.],\n",
              "       [0., 0., 0.],\n",
              "       [0., 0., 0.]])"
            ]
          },
          "metadata": {},
          "execution_count": 18
        }
      ]
    },
    {
      "cell_type": "markdown",
      "source": [
        "###Q6. Create an identity matrix of shape (5,5) using numpy functions?\n",
        "\n",
        "\n",
        "###Ans."
      ],
      "metadata": {
        "id": "vz80z651sj5E"
      }
    },
    {
      "cell_type": "code",
      "source": [
        "array=np.identity((5))\n",
        "print(array)"
      ],
      "metadata": {
        "colab": {
          "base_uri": "https://localhost:8080/"
        },
        "id": "7CwhcHUVsq00",
        "outputId": "663a004c-d9c9-4286-c752-5b625728195e"
      },
      "execution_count": 20,
      "outputs": [
        {
          "output_type": "stream",
          "name": "stdout",
          "text": [
            "[[1. 0. 0. 0. 0.]\n",
            " [0. 1. 0. 0. 0.]\n",
            " [0. 0. 1. 0. 0.]\n",
            " [0. 0. 0. 1. 0.]\n",
            " [0. 0. 0. 0. 1.]]\n"
          ]
        }
      ]
    }
  ]
}