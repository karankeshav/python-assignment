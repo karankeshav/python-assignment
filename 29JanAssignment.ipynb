{
  "nbformat": 4,
  "nbformat_minor": 0,
  "metadata": {
    "colab": {
      "provenance": [],
      "authorship_tag": "ABX9TyNC1ZZyD9sCCL9GYEb6HtHb",
      "include_colab_link": true
    },
    "kernelspec": {
      "name": "python3",
      "display_name": "Python 3"
    },
    "language_info": {
      "name": "python"
    }
  },
  "cells": [
    {
      "cell_type": "markdown",
      "metadata": {
        "id": "view-in-github",
        "colab_type": "text"
      },
      "source": [
        "<a href=\"https://colab.research.google.com/github/karankeshav/python-assignment/blob/main/29JanAssignment.ipynb\" target=\"_parent\"><img src=\"https://colab.research.google.com/assets/colab-badge.svg\" alt=\"Open In Colab\"/></a>"
      ]
    },
    {
      "cell_type": "markdown",
      "source": [
        "###Q1.Who developed Python programming language?\n",
        "\n",
        "###Answer.\n",
        "\n",
        "Guido Van Rossum developed python programming language,first released on februray 20,1991."
      ],
      "metadata": {
        "id": "VGLHYLWI2pC2"
      }
    },
    {
      "cell_type": "markdown",
      "source": [
        "###Q2.Which type of programming does python support?\n",
        "\n",
        "###Answer.\n",
        "Python is an interpreted programming language,supporting object-oriented,structural and fnuctional programming.\n",
        "Python is often used as support language for software developers,for build central and managment ,testing, and in many other ways. "
      ],
      "metadata": {
        "id": "xNEZSc9HDU9o"
      }
    },
    {
      "cell_type": "markdown",
      "source": [
        "###Q3.Is python is case sensitive when dealing with identifiers?\n",
        "\n",
        "\n",
        "###Answer.\n",
        "Yes"
      ],
      "metadata": {
        "id": "3m316Z66EU3t"
      }
    },
    {
      "cell_type": "markdown",
      "source": [
        "###Q4.What is correct extension of python file?\n",
        "\n",
        "\n",
        "###Answer.\n",
        "The extension for python are .py"
      ],
      "metadata": {
        "id": "5i5OumqOElR0"
      }
    },
    {
      "cell_type": "markdown",
      "source": [
        "###Q5.Is python code compiled or interpreted?\n",
        "\n",
        "\n",
        "###Answer.\n",
        "Python is compiled as well as interpreted !!but the compilation part is hidden from the programmer.\n",
        "Python is an interpreted language which means the source code python program is converted nito bytecode that is them executed by the python virtual machine.Python is both compiled and interpreted language,which means when we run a python code,it first cmpiled and then interpreted line by lne. "
      ],
      "metadata": {
        "id": "9GLYCv2YE5KN"
      }
    },
    {
      "cell_type": "markdown",
      "source": [
        "###Q6.Name a few blocks of code used to define in python language?\n",
        "\n",
        "\n",
        "###Answer.\n",
        "The following are blocks:a module,a function,body,and a class definition .Each command typed interactively is a block.A script file (a file given as standard input to the interpreter or specified as a command line argument to the interpreter) is a code block."
      ],
      "metadata": {
        "id": "WuEwfhaxGpkz"
      }
    },
    {
      "cell_type": "markdown",
      "source": [
        "###Q7.State a charcter used to give single-line comments in python?\n",
        "\n",
        "\n",
        "###Answer.\n",
        "We can write as single-line comments by adding a single # character before any statement or line of code."
      ],
      "metadata": {
        "id": "QE0eOFgJH6uk"
      }
    },
    {
      "cell_type": "markdown",
      "source": [
        "###Q8.Mention function which can help us to find the version of python that we are currently working on?\n",
        "\n",
        "###Answer.\n",
        "The function sys.version can help us to find te version of python that we are currently working on.Its also contains information on the build number ans compiler used.\n",
        "Using python -vcommand is also another way to get know about version."
      ],
      "metadata": {
        "id": "Jjv2lvPLIc7v"
      }
    },
    {
      "cell_type": "code",
      "source": [
        "import sys\n",
        "sys.version"
      ],
      "metadata": {
        "colab": {
          "base_uri": "https://localhost:8080/",
          "height": 36
        },
        "id": "KjMPpmTHJdAW",
        "outputId": "52e074cf-8b50-4f43-e198-1ddb203bc5ec"
      },
      "execution_count": 9,
      "outputs": [
        {
          "output_type": "execute_result",
          "data": {
            "text/plain": [
              "'3.9.16 (main, Dec  7 2022, 01:11:51) \\n[GCC 9.4.0]'"
            ],
            "application/vnd.google.colaboratory.intrinsic+json": {
              "type": "string"
            }
          },
          "metadata": {},
          "execution_count": 9
        }
      ]
    },
    {
      "cell_type": "markdown",
      "source": [
        "###Q9.Python supports the creating anonymous function at runtime,using a construct called ----------\n",
        "\n",
        "###Answer.\n",
        "Python supports the creating of anonymous function..."
      ],
      "metadata": {
        "id": "yZLKw8eFJm1t"
      }
    },
    {
      "cell_type": "code",
      "source": [
        "result=(lambda a:'-'*a)\n",
        "result(10)"
      ],
      "metadata": {
        "colab": {
          "base_uri": "https://localhost:8080/",
          "height": 36
        },
        "id": "2rDhAXsQKZrG",
        "outputId": "cea2024f-1700-474d-d653-61be18b480d3"
      },
      "execution_count": 13,
      "outputs": [
        {
          "output_type": "execute_result",
          "data": {
            "text/plain": [
              "'----------'"
            ],
            "application/vnd.google.colaboratory.intrinsic+json": {
              "type": "string"
            }
          },
          "metadata": {},
          "execution_count": 13
        }
      ]
    },
    {
      "cell_type": "markdown",
      "source": [
        "###Q10.What does pip stand for python?\n",
        "\n",
        "###Answer.\n",
        "pip stand for pip install package.Today its standard tool for intsalling python packages and their dependence in a secure manner.It is developed in 2008. "
      ],
      "metadata": {
        "id": "kmvHhSfnK9sy"
      }
    },
    {
      "cell_type": "markdown",
      "source": [
        "###Q11.Mention few built-in function in python.\n",
        "###Answer.\n",
        "-abs():return the absolute value of a number.\n",
        "\n",
        "-all():return True if all the items in an iterable object are True\n",
        "\n",
        "-divmode():return the quotient and the remainder when argument 1 is divided by 2.\n",
        "\n",
        "-format():formats a specified value\n",
        "\n",
        "-hash():return the hash value of a specified object.\n",
        "\n",
        "-iter():return the iterartor object.\n",
        "\n",
        "-len():return the length of an object."
      ],
      "metadata": {
        "id": "2ZX0uwk3L1Fb"
      }
    },
    {
      "cell_type": "markdown",
      "source": [
        "###Q12.What is the maximum possible length of an identifier in python?\n",
        "\n",
        "###Answer.\n",
        "An identifier can have a maximum length of 79 characters in python."
      ],
      "metadata": {
        "id": "O3iqy4RiNNq_"
      }
    },
    {
      "cell_type": "markdown",
      "source": [
        "###Q13.What are benefits of using python?\n",
        "\n",
        "###Answer.\n",
        "Benefits of using pthon:\n",
        "Large development community:Python is one of the most popular programming language in the world.\n",
        "\n",
        "Extensive libraries:Python offers a whide range of libraries that can be used across various application.\n",
        "\n",
        "write less,do more.Python has very concise syntax.Almost all of the tasks done in python requires less coding when the same task is done in other languages.Python also has awesome standard library support so you do not have to search for any third-party libraries to get your job done.  "
      ],
      "metadata": {
        "id": "bweteC6uN4hL"
      }
    },
    {
      "cell_type": "markdown",
      "source": [
        "###Q14.How is memory managed in python?\n",
        "\n",
        "###Answer.\n",
        "Memory management in python involves a private heap containing all python object and data structure .The management of third private heap is ensured internally by the python memort manager.Python uses a portion of the memory for internal use and non-object memory.Another part of the memory is used for python object suh as int,dict,list.python contains the object allocator memory within the object area.The object allocator gets a cell every time new object needs space.\n"
      ],
      "metadata": {
        "id": "HPhGnNKCQP5m"
      }
    },
    {
      "cell_type": "markdown",
      "source": [
        "###Q15.How to intsall python on windows and set path variable.\n",
        "\n",
        "###Anwer.\n",
        "First you need to search www.python.org in google,which is the official website of python.After clicking on the first link,you will reach to python website ,click on downloads and you will get link of download for windows.\n",
        "\n",
        "For path variable:\n",
        "\n",
        "-select start and then select control panel.Double click system,and select the advancet tab.\n",
        "\n",
        "-Click Environment variables.In the section system variables,find the PATH environment variable and select it.Click Edit.If the PATH environment does not exist ,click new.\n",
        "\n",
        "-In the Edit System Variable (or New System Variable )windows ,specify the value of teh PATH environment variable.Click OK.Close all reamaining windows by clicking OK.\n"
      ],
      "metadata": {
        "id": "moyaK_bNRwgu"
      }
    },
    {
      "cell_type": "markdown",
      "source": [
        "###Q16.Is indentation is required in python?\n",
        "\n",
        "###Answer.\n",
        "\n",
        "Indentation is important to python because its how you determine scope.Scope is how python knows what code belongs to what part of program.The indentation in python is very important.Python uses indentation to indicate a block of code."
      ],
      "metadata": {
        "id": "T5ylp3abV9Ok"
      }
    }
  ]
}