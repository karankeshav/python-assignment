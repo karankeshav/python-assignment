{
  "nbformat": 4,
  "nbformat_minor": 0,
  "metadata": {
    "colab": {
      "provenance": [],
      "authorship_tag": "ABX9TyNtaVT3KVpzhRbzqeF60k2r",
      "include_colab_link": true
    },
    "kernelspec": {
      "name": "python3",
      "display_name": "Python 3"
    },
    "language_info": {
      "name": "python"
    }
  },
  "cells": [
    {
      "cell_type": "markdown",
      "metadata": {
        "id": "view-in-github",
        "colab_type": "text"
      },
      "source": [
        "<a href=\"https://colab.research.google.com/github/karankeshav/python-assignment/blob/main/MULTITHREADING_14_FEB.ipynb\" target=\"_parent\"><img src=\"https://colab.research.google.com/assets/colab-badge.svg\" alt=\"Open In Colab\"/></a>"
      ]
    },
    {
      "cell_type": "markdown",
      "source": [
        "###Q1. What is multithreading in python? why is it used? Name the module used to handle threads in python.\n",
        "\n",
        "\n",
        "###Ans.\n",
        "\n",
        "Multithreading is a concept in python ,with the help of it we can run a task,a program parallely or simultaneously.In actually im multithreading each task,program represent by a thread with some argument,thread is class in threading.\n",
        "\n",
        "Multithreading plays an important role in any program,software which required a multiple opeartion at a particular time.\n",
        "\n",
        "For example take a example of game,we need to operate many things at a some particular time.In also paying app like google pay,phone pe,paytm we all do some kind of transaction every minute so in these type of application we need of multithreading concept to perform multiple opeartion at a any particular time.\n",
        "\n",
        "'threading' is a module in Python and Thread is a class of it ,to handle with threads and perform opeartion with the help of threading.\n",
        "\n",
        "\n"
      ],
      "metadata": {
        "id": "vUfK_0_Z2v3h"
      }
    },
    {
      "cell_type": "markdown",
      "source": [
        "###Q2.Why threading module used?Write the use of the following functions:\n",
        "\n",
        "1. activeCount()\n",
        "\n",
        "2. currentThread()\n",
        "\n",
        "3. enumerate()\n",
        "\n",
        "###Ans.\n",
        "\n",
        "Python threading allows you to have different parts of your program run concurrently and can simplify your design.Threads allows a program to operate more efficiently by doing multiple things at the same time.Threads can be used to perform complicated tasks in the background without interrupting the main program.\n",
        "\n",
        "These all three are the built-in method in threading module ,and each of one has its own meaning and working.. \n",
        "\n",
        "1.activeCount() : its tells us about how many threads are active \n",
        "\n",
        "2.currentThread(): current_thread() is an inbuilt method of the threading module,it is used to return the current Thread object,which corresponds to the caller's thread of control.\n",
        "\n",
        "3.enumerate():Enumerate is a built-in function in python that allows you to keep track of the number of iteration(loops) in a loop.This enumerate object contains a count (from the start,which always defaults to 0) and a value obtained from iterating over the iterable object."
      ],
      "metadata": {
        "id": "0-UAFMz5W_13"
      }
    },
    {
      "cell_type": "markdown",
      "source": [
        "###3. Explain the following functions:\n",
        " ->run()\n",
        " \n",
        "-> start()\n",
        "\n",
        "-> join()\n",
        "\n",
        "-> isAlive()\n",
        "\n",
        "\n",
        "###Ans.\n",
        "These all are built-in methods of threading module..\n",
        "\n",
        "->start():In simple word start() is method use to intialise/start the thread.\n",
        "\n",
        "->run():When you start/intialise the thread then run is built-in method which exceute internally automatically.In some words start() intialise the thread and remaining work/task done by run() method internally.\n",
        "\n",
        "\n",
        "->join(): Let us consider we write two codes/task and we have to run both  but we want to execute first code first and then second,until and unless first code is not exceute compeletely we do not want to go for execution for second code and we know in threading all threads run simultaneously so for acheiving execution of first code completely and then allowing second code execution we use join() method.\n",
        "\n",
        "\n",
        "In simple words join() method stops the execution of second code until and unless first code execution complete.\n",
        "\n",
        "\n",
        "->isalive(): isalive() method tells us, is the particular thread is alive or not"
      ],
      "metadata": {
        "id": "r2ZQby1hY1RN"
      }
    },
    {
      "cell_type": "code",
      "source": [
        "import threading\n",
        "import time\n",
        "def hello(n):\n",
        "  print('helllo')\n",
        "  for i in range(n):\n",
        "    print('hello world!')\n",
        "\n",
        "def welcome(n):\n",
        "  print('welcome')\n",
        "  for i in range(n):\n",
        "    print('welcome! Have a great day ahead..!')\n",
        "  \n",
        "#now we are creating thread for both the function..\n",
        "t1=threading.Thread(target=hello,args=(6,))\n",
        "t2=threading.Thread(target=welcome,args=(6,))\n",
        "\n",
        "# this method is used to start/intialise the thread and after it run method operate everything internally\n",
        "t1.start()      \n",
        "t2.start()\n",
        "\n",
        "# we want to execute first function and only after that second function execute,for that we will use join() method\n",
        "t1.join()\n",
        "t2.join()"
      ],
      "metadata": {
        "colab": {
          "base_uri": "https://localhost:8080/"
        },
        "id": "RJgndIm1coXK",
        "outputId": "5e364832-2c2a-403c-cad2-20c9d6f00e5b"
      },
      "execution_count": null,
      "outputs": [
        {
          "output_type": "stream",
          "name": "stdout",
          "text": [
            "helllo\n",
            "hello world!\n",
            "hello world!\n",
            "hello world!\n",
            "hello world!\n",
            "hello world!\n",
            "hello world!\n",
            "welcome\n",
            "welcome! Have a great day ahead..!\n",
            "welcome! Have a great day ahead..!\n",
            "welcome! Have a great day ahead..!\n",
            "welcome! Have a great day ahead..!\n",
            "welcome! Have a great day ahead..!\n",
            "welcome! Have a great day ahead..!\n"
          ]
        }
      ]
    },
    {
      "cell_type": "markdown",
      "source": [
        "###4. Write a python program to create two threads. Thread one must print the list of squares and thread two must print the list of cubes.\n",
        "\n",
        "###Ans."
      ],
      "metadata": {
        "id": "DgTgroa19bf4"
      }
    },
    {
      "cell_type": "code",
      "execution_count": null,
      "metadata": {
        "colab": {
          "base_uri": "https://localhost:8080/"
        },
        "id": "s7WShwZR2VAV",
        "outputId": "6964babe-8bce-42c0-f8df-2ce8974e4ee8"
      },
      "outputs": [
        {
          "output_type": "stream",
          "name": "stdout",
          "text": [
            "[1, 4, 9, 16, 25, 36, 49, 64, 81, 100]\n",
            "[1, 8, 27, 64, 125, 216, 343, 512, 729, 1000]\n"
          ]
        }
      ],
      "source": [
        "import threading\n",
        "square_list=[]\n",
        "cube_list=[]\n",
        "def square(n):\n",
        "  for i in range(1,n):\n",
        "    square_list.append(i**2)\n",
        "  print(square_list)\n",
        "def cube(m):\n",
        "  for i in range(1,m):\n",
        "    cube_list.append(i**3)\n",
        "  print(cube_list)\n",
        "\n",
        "  \n",
        "t1=threading.Thread(target=square,args=(11,))\n",
        "t1.start()\n",
        "t2=threading.Thread(target=cube,args=(11,))\n",
        "t2.start()\n"
      ]
    },
    {
      "cell_type": "markdown",
      "source": [
        "###5. State advantages and disadvantages of multithreading.\n",
        "\n",
        "###Ans.\n",
        "\n",
        "\n",
        "ADVANTAGES OF MULTITHREADING:\n",
        "\n",
        "1.Improved performance:Multithrteading can help increase the overall performance of an application,especially on systems with multiple processor or cores.It allows multiple tasks to run concurrently,utilizing the available CPU resource more efficiently.\n",
        "\n",
        "2.Responsiveness:In a single-threaded environment,if a long-running tasks blocks the main thread,the entire application becomes unresponsive.Multithreading can prevent this issues by running such tasks in separate threads ,ensuring the application remains responsive.\n",
        "\n",
        "3.Better resource utilization:Multithreading allows better utilization of system resources by keeping the CPU busy while waiting for I/O operations or other tasks to complete.\n",
        "\n",
        "4.Simplified modelling:Some problems can be more naturally modeled using multiple threads.This makes the program easier to design ,understand ,and maintain.\n",
        "\n",
        "5.Parallelism:Multithreading enables parallism,which can lead to significant performance improvements in application that can be divided into smaller,independent tasks.\n",
        "\n",
        "\n",
        "\n",
        "DISADVANTAGES:\n",
        "\n",
        "\n",
        "\n",
        "1.Compelexity:Multithreading adds complexity to the program,making it more difficult to design ,implement,and debug.Developers need to be aware of synchronization,deadlocks,race condition and other concurrency related issues.\n",
        "\n",
        "2.Synchronization overhead:To avoid data corruption and maintain consistency ,developers must synchronize access to shared resources,which can result in additional overhead and reduced performance.\n",
        "\n",
        "3.Context switching:Context switching between threads consumes CPU time and resources ,which can lead to performace degradation if not managed efficiently.\n",
        "\n",
        "4.Hard to perdict behaviour:Due to the concurrent nature of multithreading ,the behaviour of the program can be hard to predict and reproduce,especially when it comes to debugging.\n",
        "\n",
        "5.Limited by hardware:The performance benefits of multithreading are limited by the number of available cores pr processors in the system.In some cases,excessive use of threads can lead to performace degradation instead of improvement."
      ],
      "metadata": {
        "id": "utBssVA72vRp"
      }
    },
    {
      "cell_type": "markdown",
      "source": [
        "###6. Explain deadlocks and race conditions.\n",
        "\n",
        "\n",
        "###Ans.\n",
        "\n",
        "\n",
        "RACE CONDITION:\n",
        "\n",
        "Race condition is a bug genrated when you do multithreading.It occurs because two or more threads tries to update the same variable and results into unrealiable output.In simple words it is concurrent access to shared resources can lead to race condition.\n",
        "\n",
        "\n",
        "DEADLOCKS:\n",
        "\n",
        "A deadlocks occurs when two threads each look a different variable at the same time and then try to look the variable that other thread already locked.As a result each thread stops executing and waits for the other thread to release the variable,because each thread is holding the variable that the other thread waits,nothing occurs,and the threads remain deadlocked."
      ],
      "metadata": {
        "id": "vtdplBbCh7i2"
      }
    }
  ]
}