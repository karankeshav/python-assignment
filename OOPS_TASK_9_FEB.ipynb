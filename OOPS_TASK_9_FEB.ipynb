{
  "nbformat": 4,
  "nbformat_minor": 0,
  "metadata": {
    "colab": {
      "provenance": [],
      "authorship_tag": "ABX9TyO+3K/BOb1NLV/dyV2VQ7KO",
      "include_colab_link": true
    },
    "kernelspec": {
      "name": "python3",
      "display_name": "Python 3"
    },
    "language_info": {
      "name": "python"
    }
  },
  "cells": [
    {
      "cell_type": "markdown",
      "metadata": {
        "id": "view-in-github",
        "colab_type": "text"
      },
      "source": [
        "<a href=\"https://colab.research.google.com/github/karankeshav/python-assignment/blob/main/OOPS_TASK_9_FEB.ipynb\" target=\"_parent\"><img src=\"https://colab.research.google.com/assets/colab-badge.svg\" alt=\"Open In Colab\"/></a>"
      ]
    },
    {
      "cell_type": "markdown",
      "source": [
        "#OOPS TASK"
      ],
      "metadata": {
        "id": "3BY0uqZJdWz1"
      }
    },
    {
      "cell_type": "markdown",
      "source": [
        "###Q1. Create a vehicle class with an init method having instance variables as name_of_vehicle, max_speed and average_of_vehicle.\n",
        "\n",
        "\n",
        "###Ans:"
      ],
      "metadata": {
        "id": "Oatxu2UiKmQE"
      }
    },
    {
      "cell_type": "code",
      "source": [
        "class vehicle:\n",
        "\n",
        "  def __init__(self,name_of_vehicle,max_speed,average_oF_speed):\n",
        "    self.name_of_vehicle=name_of_vehicle\n",
        "    self.max_speed=max_speed\n",
        "    self.average_of_speed=average_oF_speed\n",
        "\n",
        "obj=vehicle('tata',180,70)"
      ],
      "metadata": {
        "id": "EhGgqZDSHqFC"
      },
      "execution_count": 48,
      "outputs": []
    },
    {
      "cell_type": "markdown",
      "source": [
        "###Q2. Create a child class car from the vehicle class created in Que 1, which will inherit the vehicle class. Create a method named seating_capacity which takes capacity as an argument and returns the name of the vehicle and its seating capacity.\n",
        "\n",
        "\n",
        "###Ans:"
      ],
      "metadata": {
        "id": "N3mnaGhOMMkZ"
      }
    },
    {
      "cell_type": "code",
      "source": [
        "class vehicle:\n",
        "\n",
        "  def __init__(self,name_of_vehicle,max_speed,average_oF_speed):\n",
        "    self.name_of_vehicle=name_of_vehicle\n",
        "    self.max_speed=max_speed\n",
        "    self.average_of_speed=average_oF_speed\n",
        "\n",
        "\n",
        "class car(vehicle):\n",
        "\n",
        "  def seating_capacity(self,capacity):\n",
        "    self.capacity=capacity\n",
        "    print(self.name_of_vehicle)\n",
        "    print(self.capacity)\n",
        "\n",
        "\n",
        "obj=car('TATA',180,70)\n",
        "obj.seating_capacity(4)\n"
      ],
      "metadata": {
        "colab": {
          "base_uri": "https://localhost:8080/"
        },
        "id": "maLpr83JHqCg",
        "outputId": "5fcc0440-c9f5-441c-a534-527458c5bacd"
      },
      "execution_count": 49,
      "outputs": [
        {
          "output_type": "stream",
          "name": "stdout",
          "text": [
            "TATA\n",
            "4\n"
          ]
        }
      ]
    },
    {
      "cell_type": "markdown",
      "source": [
        "###Q3. What is multiple inheritance? Write a python code to demonstrate multiple inheritance.\n",
        "\n",
        "\n",
        "###Ans:\n",
        "\n",
        "In MUltiple Inheritance,two or more than two parent(base) class have single child(derived) class.In other words the data and methods of parents class can be access by the object of the child(derived) class.\n",
        "\n",
        "In Multiple Inheritance single child class have the two or more than two parent(base) class.\n",
        "\n",
        "\n",
        "In more brief,In muiltiple inheirtance there is two parent class and only one child class,and child class's object can access the object and data of these two parent class.\n",
        "\n"
      ],
      "metadata": {
        "id": "ZA46k5p0QRag"
      }
    },
    {
      "cell_type": "code",
      "source": [
        "class Phone:\n",
        "    def __init__(self, price, brand, camera):\n",
        "        print (\"Inside phone constructor\")\n",
        "        self.__price = price\n",
        "        self.brand = brand\n",
        "        self.camera = camera\n",
        "\n",
        "    def buy(self):\n",
        "        print (\"Buying a phone\")\n",
        "\n",
        "class Product:\n",
        "    def review(self):\n",
        "        print (\"Customer review\")\n",
        "\n",
        "class SmartPhone(Phone, Product):\n",
        "    pass\n",
        "\n",
        "s=SmartPhone(20000, \"Apple\", 12)\n",
        "\n",
        "s.buy()\n",
        "s.review()\n"
      ],
      "metadata": {
        "colab": {
          "base_uri": "https://localhost:8080/"
        },
        "id": "hN_LrYDJHp-o",
        "outputId": "9af0f5c6-0ee9-4427-d822-d5ced4cfcdb7"
      },
      "execution_count": 50,
      "outputs": [
        {
          "output_type": "stream",
          "name": "stdout",
          "text": [
            "Inside phone constructor\n",
            "Buying a phone\n",
            "Customer review\n"
          ]
        }
      ]
    },
    {
      "cell_type": "markdown",
      "source": [
        "###Q4. What are getter and setter in python? Create a class and create a getter and a setter method in this class.\n",
        "\n",
        "\n",
        "###Ans:\n",
        "\n",
        "In OOPs sometimes some things are need to keep private,for that we used '__' before the attribute,but imagine if we want to keep some things private and also want to give access of private things ,then in case if used getter.\n",
        "\n",
        "In same way if we do not want to give access of some important data for some reason,we used __ and make it private but if we want to change the value of private oject then in this case setter come into the play. \n"
      ],
      "metadata": {
        "id": "2WcG5PiBUraI"
      }
    },
    {
      "cell_type": "code",
      "source": [
        "class customer:\n",
        "\n",
        "  def __init__(self,name,age,phone_number,email_id):\n",
        "    self.name=name\n",
        "    self.age=age\n",
        "    self.__phone_number=phone_number\n",
        "    self.__email_id=email_id\n",
        "\n",
        "  def get_phone_number(self):        #getter\n",
        "    return self.__phone_number\n",
        "\n",
        "  def set__phone_no(self,new_phone_number):     #setter\n",
        "    self.new_phone_number=new_phone_number\n",
        "    self.__phone_number=self.new_phone_number\n",
        "    return self.new_phone_number\n",
        "\n",
        "\n",
        "\n",
        "obj=customer('karan',23,8665746,'karan@gmail.com')\n",
        "obj.get_phone_number()   #getter execution\n"
      ],
      "metadata": {
        "colab": {
          "base_uri": "https://localhost:8080/"
        },
        "id": "miH2uHqRHp7A",
        "outputId": "e25a0cac-9956-486b-bee4-36e247415529"
      },
      "execution_count": 46,
      "outputs": [
        {
          "output_type": "execute_result",
          "data": {
            "text/plain": [
              "8665746"
            ]
          },
          "metadata": {},
          "execution_count": 46
        }
      ]
    },
    {
      "cell_type": "code",
      "source": [
        "obj.set__phone_no(1234567899)  #setter execution\n",
        "obj.get_phone_number()"
      ],
      "metadata": {
        "colab": {
          "base_uri": "https://localhost:8080/"
        },
        "id": "6uZaRskIHp2Y",
        "outputId": "5c6b7306-c2b9-4771-f177-508a4a8a03db"
      },
      "execution_count": 45,
      "outputs": [
        {
          "output_type": "execute_result",
          "data": {
            "text/plain": [
              "1234567899"
            ]
          },
          "metadata": {},
          "execution_count": 45
        }
      ]
    },
    {
      "cell_type": "markdown",
      "source": [
        "###Q5.What is method overriding in python? Write a python code to demonstrate method overriding.\n",
        "\n",
        "\n",
        "###Ans:\n",
        "\n",
        "When parent(base) class and child(derived) class have same method,in this case when we call that same method(which are in parent as well as child class) then which will be executed ,teh answer is child's class method will be run,this is called method overriding.\n",
        "\n",
        "In this case child's class method is called overriding which is also in parent's class and is called overriden method."
      ],
      "metadata": {
        "id": "Iw8b78zta5dz"
      }
    },
    {
      "cell_type": "code",
      "source": [
        "class Phone:\n",
        "    def __init__(self, price, brand, camera):\n",
        "        print (\"Inside phone constructor\")\n",
        "        self.__price = price\n",
        "        self.brand = brand\n",
        "        self.camera = camera\n",
        "\n",
        "    def buy(self):\n",
        "        print (\"Buying a phone\")\n",
        "\n",
        "class SmartPhone(Phone):\n",
        "    def buy(self):\n",
        "        print (\"Buying a smartphone\")\n",
        "\n",
        "s=SmartPhone(20000, \"Apple\", 13)\n",
        "\n",
        "s.buy()"
      ],
      "metadata": {
        "colab": {
          "base_uri": "https://localhost:8080/"
        },
        "id": "IvxkyVBEHpyY",
        "outputId": "7ae0a56e-9754-432d-e9c4-03736cc5d2d8"
      },
      "execution_count": 47,
      "outputs": [
        {
          "output_type": "stream",
          "name": "stdout",
          "text": [
            "Inside phone constructor\n",
            "Buying a smartphone\n"
          ]
        }
      ]
    }
  ]
}