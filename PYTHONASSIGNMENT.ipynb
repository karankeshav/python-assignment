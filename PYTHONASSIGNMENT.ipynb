{
  "nbformat": 4,
  "nbformat_minor": 0,
  "metadata": {
    "colab": {
      "provenance": [],
      "authorship_tag": "ABX9TyOW/RbK30DGBgc7kcn2tBo9",
      "include_colab_link": true
    },
    "kernelspec": {
      "name": "python3",
      "display_name": "Python 3"
    },
    "language_info": {
      "name": "python"
    }
  },
  "cells": [
    {
      "cell_type": "markdown",
      "metadata": {
        "id": "view-in-github",
        "colab_type": "text"
      },
      "source": [
        "<a href=\"https://colab.research.google.com/github/karankeshav/python-assignment/blob/main/PYTHONASSIGNMENT.ipynb\" target=\"_parent\"><img src=\"https://colab.research.google.com/assets/colab-badge.svg\" alt=\"Open In Colab\"/></a>"
      ]
    },
    {
      "cell_type": "markdown",
      "source": [
        "#30th Jan Assignment\n"
      ],
      "metadata": {
        "id": "wp_KI2P0G9VE"
      }
    },
    {
      "cell_type": "markdown",
      "source": [
        "###1. Write a program to accept percentage from the user and display the grade according to the following criteria: \n",
        "\n",
        "\n",
        "Marks:        Grade:  \n",
        "###>90:            A\n",
        "\n",
        "###>80 and <=90:    B\n",
        "\n",
        "\n",
        "###>=60 and <=80:    C\n",
        "\n",
        " \n",
        "###below 60:         D\n",
        " \n"
      ],
      "metadata": {
        "id": "EZAoM9II5zQ6"
      }
    },
    {
      "cell_type": "code",
      "source": [
        "marks=int(input('Enter your percentage: '))\n",
        "if 100>marks>90:\n",
        "  print('Your grade is A')\n",
        "elif 80<marks<=90:\n",
        "  print('Your grade is B')\n",
        "elif 60<=marks<=80:\n",
        "  print('Your grade is C')\n",
        "elif 60>marks:\n",
        "  print(\"Your grade is D\")\n",
        "else:\n",
        "  print(\"Invalid Operation\")"
      ],
      "metadata": {
        "id": "hYphRYIb7SPy",
        "colab": {
          "base_uri": "https://localhost:8080/"
        },
        "outputId": "2e2820e6-ac06-48a8-ad03-07f4da0bc46a"
      },
      "execution_count": 2,
      "outputs": [
        {
          "output_type": "stream",
          "name": "stdout",
          "text": [
            "Enter your percentage: 69\n",
            "Your grade is C\n"
          ]
        }
      ]
    },
    {
      "cell_type": "markdown",
      "source": [
        "###Q2.write a program to accept the cost price of a bike and display the road tax to be paid acccording to the following criteria:\n",
        "\n",
        "###Tax:Cost Price(in Rs)\n",
        "\n",
        "15%:>100000\n",
        "\n",
        "10%:>50000 and <=100000\n",
        "\n",
        "5%:<=50000"
      ],
      "metadata": {
        "id": "bg8WeOJc9G6w"
      }
    },
    {
      "cell_type": "code",
      "source": [
        "price=int(input(\"Enter your cost price of a bike: \"))\n",
        "if price>100000:\n",
        "  print(\"Total road tax you have to pay is: \",int(15/100*price))\n",
        "elif 50000<price<=100000:\n",
        "  print(\"Total road tax you have to pay is: \",int(10/100*price))\n",
        "elif price<=50000:\n",
        "  print(\"Total road tax you have to pay is: \",int(5/100*price))\n",
        "else:\n",
        "  print(\"Invalid Operaton\")\n",
        "\n"
      ],
      "metadata": {
        "id": "ZpN6uUb_9_sg",
        "colab": {
          "base_uri": "https://localhost:8080/"
        },
        "outputId": "49fb0af1-f158-4730-f57d-eef7fb7e8792"
      },
      "execution_count": 4,
      "outputs": [
        {
          "output_type": "stream",
          "name": "stdout",
          "text": [
            "Enter your cost price of a bike: 68000\n",
            "Total road tax you have to pay is:  6800\n"
          ]
        }
      ]
    },
    {
      "cell_type": "markdown",
      "source": [
        "###Q3.Accept any city from the user and display monuments of that city.\n",
        "\n",
        "City:Monuments\n",
        "\n",
        "Delhi:Red Fort\n",
        "\n",
        "Agra:Taz Mahal\n",
        "\n",
        "Jaipur:Jal Mahal\n",
        "\n",
        "###Answer.\n"
      ],
      "metadata": {
        "id": "OzL4F11cHPAl"
      }
    },
    {
      "cell_type": "code",
      "source": [
        "cityname=input(\"Enter the city name-(Delhi,Agra,Jaipur):\")\n",
        "if cityname==\"Delhi\":\n",
        "  print(\"Monument of delhi is: Red Fort\")\n",
        "elif cityname==\"Agra\":\n",
        "  print(\"Monument of Agra is: Taz Mahal\")\n",
        "elif cityname==\"Jaipur\":\n",
        "  print(\"Monument of Jaipur is: Jal Mahal\")\n",
        "else:\n",
        "  print('Invalid Operation')"
      ],
      "metadata": {
        "colab": {
          "base_uri": "https://localhost:8080/"
        },
        "id": "yzsEN8FmHk6C",
        "outputId": "4b7a7f07-1694-44d9-c163-e11c54750cdd"
      },
      "execution_count": null,
      "outputs": [
        {
          "output_type": "stream",
          "name": "stdout",
          "text": [
            "Enter the city name-(Delhi,Agra,Jaipur):jhvio\n",
            "Invalid Operation\n"
          ]
        }
      ]
    },
    {
      "cell_type": "markdown",
      "source": [
        "###Q4.Check how many times a given number can be divided by 3 before it is less than or equal to 10.\n",
        "\n",
        "###Answer.\n"
      ],
      "metadata": {
        "id": "f7hZKafQJfCo"
      }
    },
    {
      "cell_type": "code",
      "source": [
        "def div(number):\n",
        "  i=0\n",
        "  while number>=10:\n",
        "    number=int(number/3)\n",
        "    i=i+1\n",
        "    if number<=10:\n",
        "      print(i)\n",
        "      break\n",
        "\n",
        "div(8787897)"
      ],
      "metadata": {
        "id": "-KQRhu5UJ5Pl",
        "colab": {
          "base_uri": "https://localhost:8080/"
        },
        "outputId": "25a0c570-a442-46a1-9e80-a73c1fb5c707"
      },
      "execution_count": null,
      "outputs": [
        {
          "output_type": "stream",
          "name": "stdout",
          "text": [
            "13\n"
          ]
        }
      ]
    },
    {
      "cell_type": "markdown",
      "source": [
        "###Q5. Why and when to use while loop in python give a details description with example.\n",
        "\n",
        "###Answer.\n",
        "\n",
        "While loop is repeating loop which works under the some specific condition  as its limit and it will run  repeatedly till the condition is true.\n",
        "In other words  while loop repeat  some code repetedly till the enetred condition is true.\n",
        "While loop is used when we have to execute some code until the certain condition.While using the \"while\" loop its necessary to create condition carefully i.e.give appropriate increment ,decrement statement after the code otherwise while loop will run upto infinite\n",
        "\n",
        "\n",
        "Let's see some example of while loop..."
      ],
      "metadata": {
        "id": "ywhGhAgPnyfj"
      }
    },
    {
      "cell_type": "code",
      "source": [
        "##INFINITE WHILE LOOP\n",
        "\n",
        "i=0\n",
        "while i<5:\n",
        "  print(\"hello world\")"
      ],
      "metadata": {
        "id": "V61Zp8DQrf9E"
      },
      "execution_count": null,
      "outputs": []
    },
    {
      "cell_type": "code",
      "source": [
        "##USE OF WHILE LOOP\n",
        "i=0\n",
        "while i<11:\n",
        "  print(i**2)\n",
        "  i=i+1"
      ],
      "metadata": {
        "colab": {
          "base_uri": "https://localhost:8080/"
        },
        "id": "bD-hptSSuuQq",
        "outputId": "5f756886-1ac1-4eec-dab9-e6befce34510"
      },
      "execution_count": null,
      "outputs": [
        {
          "output_type": "stream",
          "name": "stdout",
          "text": [
            "0\n",
            "1\n",
            "4\n",
            "9\n",
            "16\n",
            "25\n",
            "36\n",
            "49\n",
            "64\n",
            "81\n",
            "100\n"
          ]
        }
      ]
    },
    {
      "cell_type": "markdown",
      "source": [
        "###Q6.Use nested while loop to print 3 different pattern.\n",
        "\n",
        "###Answer.\n",
        "\n"
      ],
      "metadata": {
        "id": "DwMUH_MXvU6q"
      }
    },
    {
      "cell_type": "code",
      "source": [
        "#SQUARE\n",
        "n=int(input())\n",
        "i=0\n",
        "while n>i:\n",
        "  j=0\n",
        "  while j!=n:\n",
        "    print(' * ',end='')\n",
        "    j=j+1\n",
        "  i=i+1\n",
        "  print()"
      ],
      "metadata": {
        "colab": {
          "base_uri": "https://localhost:8080/"
        },
        "id": "xMCM6zbHuuUR",
        "outputId": "47c90742-3350-47bf-c00a-429ae6c5b853"
      },
      "execution_count": null,
      "outputs": [
        {
          "output_type": "stream",
          "name": "stdout",
          "text": [
            "6\n",
            " *  *  *  *  *  * \n",
            " *  *  *  *  *  * \n",
            " *  *  *  *  *  * \n",
            " *  *  *  *  *  * \n",
            " *  *  *  *  *  * \n",
            " *  *  *  *  *  * \n"
          ]
        }
      ]
    },
    {
      "cell_type": "code",
      "source": [
        "#TRAINGLE\n",
        "def triangle(n):\n",
        "  i=0\n",
        "  while i<=n:\n",
        "    x=0\n",
        "    while x<=i:\n",
        "      print('*',end='') \n",
        "      x=x+1\n",
        "    print()\n",
        "    i=i+1\n",
        "triangle(5)"
      ],
      "metadata": {
        "colab": {
          "base_uri": "https://localhost:8080/"
        },
        "id": "t3AQQWG2XmXv",
        "outputId": "fe55e3b2-8036-4c20-b87b-5daf9f27e797"
      },
      "execution_count": null,
      "outputs": [
        {
          "output_type": "stream",
          "name": "stdout",
          "text": [
            "*\n",
            "**\n",
            "***\n",
            "****\n",
            "*****\n",
            "******\n"
          ]
        }
      ]
    },
    {
      "cell_type": "code",
      "source": [
        "#OPPOSITE RIGHT ANGLED TRIANGLE\n",
        "def pattern(n):\n",
        "  i=n\n",
        "  while i>=1:\n",
        "    print(\" \"*(n-i)+\"*\"*i)\n",
        "    i=i-1\n",
        "\n",
        "pattern(6)"
      ],
      "metadata": {
        "colab": {
          "base_uri": "https://localhost:8080/"
        },
        "id": "Weuuwi5DXmUV",
        "outputId": "cd8dfd45-b17e-48c7-ef71-d1d6b6943219"
      },
      "execution_count": 1,
      "outputs": [
        {
          "output_type": "stream",
          "name": "stdout",
          "text": [
            "******\n",
            " *****\n",
            "  ****\n",
            "   ***\n",
            "    **\n",
            "     *\n"
          ]
        }
      ]
    },
    {
      "cell_type": "markdown",
      "source": [
        "###Q7.Reverse a while loop to display number from 10 to 1.\n",
        "\n",
        "###Answer."
      ],
      "metadata": {
        "id": "XlGhp7ys3bJv"
      }
    },
    {
      "cell_type": "code",
      "source": [
        "##REVERSE ORDER IN WHILE LOOP\n",
        "i=10\n",
        "while i>=1:\n",
        "  print(i)\n",
        "  i=i-1"
      ],
      "metadata": {
        "colab": {
          "base_uri": "https://localhost:8080/"
        },
        "id": "NnfqZ5Zs3yKa",
        "outputId": "8d6b7418-3ead-40bb-c8f2-a52298fe471c"
      },
      "execution_count": null,
      "outputs": [
        {
          "output_type": "stream",
          "name": "stdout",
          "text": [
            "10\n",
            "9\n",
            "8\n",
            "7\n",
            "6\n",
            "5\n",
            "4\n",
            "3\n",
            "2\n",
            "1\n"
          ]
        }
      ]
    },
    {
      "cell_type": "markdown",
      "source": [
        "###Q8.Reverse a while loop to display number from 10 to 1.\n",
        "\n",
        "###Answer."
      ],
      "metadata": {
        "id": "oTkyRaho5d11"
      }
    },
    {
      "cell_type": "code",
      "source": [
        "i=10\n",
        "while i>=1:\n",
        "  print(i)\n",
        "  i=i-1"
      ],
      "metadata": {
        "colab": {
          "base_uri": "https://localhost:8080/"
        },
        "id": "a58NlPc-5xXs",
        "outputId": "3ec29a57-1734-4b47-c277-61cdff3a9031"
      },
      "execution_count": null,
      "outputs": [
        {
          "output_type": "stream",
          "name": "stdout",
          "text": [
            "10\n",
            "9\n",
            "8\n",
            "7\n",
            "6\n",
            "5\n",
            "4\n",
            "3\n",
            "2\n",
            "1\n"
          ]
        }
      ]
    }
  ]
}