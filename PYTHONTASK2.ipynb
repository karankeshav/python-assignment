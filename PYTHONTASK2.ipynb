{
  "nbformat": 4,
  "nbformat_minor": 0,
  "metadata": {
    "colab": {
      "provenance": [],
      "authorship_tag": "ABX9TyN6pngkHx8qkB3x8JnIk1Dv",
      "include_colab_link": true
    },
    "kernelspec": {
      "name": "python3",
      "display_name": "Python 3"
    },
    "language_info": {
      "name": "python"
    }
  },
  "cells": [
    {
      "cell_type": "markdown",
      "metadata": {
        "id": "view-in-github",
        "colab_type": "text"
      },
      "source": [
        "<a href=\"https://colab.research.google.com/github/karankeshav/python-assignment/blob/main/PYTHONTASK2.ipynb\" target=\"_parent\"><img src=\"https://colab.research.google.com/assets/colab-badge.svg\" alt=\"Open In Colab\"/></a>"
      ]
    },
    {
      "cell_type": "markdown",
      "source": [
        "#PYTHON TASK 2\n"
      ],
      "metadata": {
        "id": "FU7U5BqwsF83"
      }
    },
    {
      "cell_type": "markdown",
      "source": [
        "###Q1. You are writing code for a company. The requirement of the company is that you create a python function that will check whether the password entered by the user is correct or not. The function should take the password as input and return the string “Valid Password” if the entered password follows the below-given password guidelines else it should return “Invalid Password”.\n",
        "\n",
        "Note: 1. The Password should contain at least two uppercase letters and at least two lowercase letters. \n",
        "2. The Password should contain at least a number and three special characters.\n",
        "3. The length of the password should be 10 characters long."
      ],
      "metadata": {
        "id": "Ac2SVd9PsKX_"
      }
    },
    {
      "cell_type": "code",
      "source": [
        "import string\n",
        "specialchr=string.punctuation\n",
        "password=input(\"Enter your password: \")\n",
        "if len(password)>=10:\n",
        " a=list(map(lambda chr:chr.isupper(),password))\n",
        " if a.count(True)>=2:\n",
        "   b=list(map(lambda chr:chr.islower(),password))\n",
        "   if (b.count(True))>=2:\n",
        "     c=list(map(lambda chr:chr.isdigit(),password))\n",
        "     if (c.count(True))>=1:\n",
        "       d=list(map(lambda chr:chr in specialchr,password))\n",
        "       if (d.count(True))>=3:\n",
        "         print('Valid Password')\n",
        "       else:\n",
        "         print('Invalid Password')\n",
        "     else:\n",
        "       print(\"Invalid Password\")\n",
        "   else:\n",
        "     print('Invalid Password')\n",
        " else:\n",
        "   print('Invalid Password')\n",
        "else:\n",
        "  print('Invalid Password')"
      ],
      "metadata": {
        "colab": {
          "base_uri": "https://localhost:8080/"
        },
        "id": "jAxkO6cSshML",
        "outputId": "6500452d-fde6-49dd-adc4-fa2e22f65b10"
      },
      "execution_count": 85,
      "outputs": [
        {
          "output_type": "stream",
          "name": "stdout",
          "text": [
            "Enter your password: jjjGGG><?89j\n",
            "Valid Password\n"
          ]
        }
      ]
    },
    {
      "cell_type": "markdown",
      "source": [
        "###Q2. Solve the below-given questions using at least one of the following:\n",
        "1. Lambda function\n",
        "2. Filter function\n",
        "3. Map function\n",
        "4. List Comprehension\n",
        "\n",
        "-Check if the string starts with a particular letter.\n",
        "\n",
        "\n",
        "-Check if the string is numeric.\n",
        "\n",
        "\n",
        "-Sort a list of tuples having fruit names and their quantity. [(\"mango\",99),(\"orange\",80), (\"grapes\", 1000)]\n",
        "\n",
        "\n",
        "-Find the squares of numbers from 1 to 10.\n",
        "\n",
        "\n",
        "-Find the cube root of numbers from 1 to 10.\n",
        "\n",
        "\n",
        "-Check if a given number is even.\n",
        "\n",
        "\n",
        "-Filter odd numbers from the given list.\n",
        "[1,2,3,4,5,6,7,8,9,10]\n",
        "\n",
        "\n",
        "-Sort a list of integers into positive and negative integers lists.\n",
        "[1,2,3,4,5,6,-1,-2,-3,-4,-5,0]\n",
        "\n"
      ],
      "metadata": {
        "id": "22TUAYgWskDw"
      }
    },
    {
      "cell_type": "markdown",
      "source": [
        "### check if the string starts with a particular letter"
      ],
      "metadata": {
        "id": "7HTr33YLuiOC"
      }
    },
    {
      "cell_type": "code",
      "source": [
        "\"\"\"\n",
        "let us consider some particular letters are:\n",
        " 's','K','m','H'\n",
        "if string contained any letters mentioned above ,function will return True otherwise it return False\n",
        "\"\"\"\n",
        "string=(lambda a:a.startswith(('s','K','m','H')))\n",
        "\n",
        "\n",
        "string('saran')"
      ],
      "metadata": {
        "colab": {
          "base_uri": "https://localhost:8080/"
        },
        "id": "lL-LxHpWux2P",
        "outputId": "e8d815ed-4ccd-4494-bbaa-a0dcd8b79a63"
      },
      "execution_count": null,
      "outputs": [
        {
          "output_type": "execute_result",
          "data": {
            "text/plain": [
              "True"
            ]
          },
          "metadata": {},
          "execution_count": 57
        }
      ]
    },
    {
      "cell_type": "markdown",
      "source": [
        "###>Check if the string is numeric.\n",
        "\n",
        "###Answer."
      ],
      "metadata": {
        "id": "YrkvVtStiJVg"
      }
    },
    {
      "cell_type": "code",
      "source": [
        "\" If input string contain all number,function will show True otherwise it wll show False\"\n",
        "\n",
        "string=(lambda string:string.isnumeric())\n",
        "string('87')\n"
      ],
      "metadata": {
        "colab": {
          "base_uri": "https://localhost:8080/"
        },
        "id": "Ok3fINSNiUp0",
        "outputId": "4f0c1016-5d50-44e3-8d7f-4622cb925368"
      },
      "execution_count": null,
      "outputs": [
        {
          "output_type": "execute_result",
          "data": {
            "text/plain": [
              "True"
            ]
          },
          "metadata": {},
          "execution_count": 56
        }
      ]
    },
    {
      "cell_type": "markdown",
      "source": [
        "###>Sort a list of tuples having fruit names and their quantity. [(\"mango\",99),(\"orange\",80), (\"grapes\", 1000)]\n",
        "\n",
        "###Answer."
      ],
      "metadata": {
        "id": "s1686j-gmiYs"
      }
    },
    {
      "cell_type": "code",
      "source": [
        "given=[('mango',99),('orange',80),('grapes',1000)]\n",
        "result=(lambda a:sorted(a))\n",
        "\n",
        "result(given)"
      ],
      "metadata": {
        "colab": {
          "base_uri": "https://localhost:8080/"
        },
        "id": "D6VviX8Cmub1",
        "outputId": "16e2a0c4-e79a-4e50-913f-92deb3205a5e"
      },
      "execution_count": null,
      "outputs": [
        {
          "output_type": "execute_result",
          "data": {
            "text/plain": [
              "[('grapes', 1000), ('mango', 99), ('orange', 80)]"
            ]
          },
          "metadata": {},
          "execution_count": 65
        }
      ]
    },
    {
      "cell_type": "markdown",
      "source": [
        "###>Find the squares of numbers from 1 to 10.\n",
        "\n",
        "###Answer.\n"
      ],
      "metadata": {
        "id": "MBK6QWnOok2v"
      }
    },
    {
      "cell_type": "code",
      "source": [
        "result=[i**2 for i in range(1,11)]\n",
        "\n",
        "result"
      ],
      "metadata": {
        "colab": {
          "base_uri": "https://localhost:8080/"
        },
        "id": "wmPm4XpuoxUl",
        "outputId": "2bb14323-d3c2-4a36-f33b-b4cd3795c8c3"
      },
      "execution_count": null,
      "outputs": [
        {
          "output_type": "execute_result",
          "data": {
            "text/plain": [
              "[1, 4, 9, 16, 25, 36, 49, 64, 81, 100]"
            ]
          },
          "metadata": {},
          "execution_count": 67
        }
      ]
    },
    {
      "cell_type": "markdown",
      "source": [
        "###> find the cube root from numbers 1 to 10.\n",
        "\n",
        "###Answer."
      ],
      "metadata": {
        "id": "_aOUFeTdpZsV"
      }
    },
    {
      "cell_type": "code",
      "source": [
        "# BY MAP FUNCTION\n",
        "lst=[1,2,3,4,5,6,7,8,9,10]\n",
        "result=list(map(lambda a:(a**(1/3)),lst))\n",
        "print(result)"
      ],
      "metadata": {
        "colab": {
          "base_uri": "https://localhost:8080/"
        },
        "id": "eib5wmvlXdh6",
        "outputId": "05541279-b6b9-43c7-d845-b1ffbedc2ae1"
      },
      "execution_count": 41,
      "outputs": [
        {
          "output_type": "stream",
          "name": "stdout",
          "text": [
            "[1.0, 1.2599210498948732, 1.4422495703074083, 1.5874010519681994, 1.7099759466766968, 1.8171205928321397, 1.912931182772389, 2.0, 2.080083823051904, 2.154434690031884]\n"
          ]
        }
      ]
    },
    {
      "cell_type": "code",
      "source": [
        "#BY LIST COMPREHENSION\n",
        "result=[i**(1/3) for i in range(1,11)]\n",
        "print(result)"
      ],
      "metadata": {
        "colab": {
          "base_uri": "https://localhost:8080/"
        },
        "id": "cd2eORI3iCtB",
        "outputId": "c9d870fd-9991-43e6-f757-8f799364c5bf"
      },
      "execution_count": 42,
      "outputs": [
        {
          "output_type": "stream",
          "name": "stdout",
          "text": [
            "[1.0, 1.2599210498948732, 1.4422495703074083, 1.5874010519681994, 1.7099759466766968, 1.8171205928321397, 1.912931182772389, 2.0, 2.080083823051904, 2.154434690031884]\n"
          ]
        }
      ]
    },
    {
      "cell_type": "markdown",
      "source": [
        "###Check if a given number is even.\n",
        "\n",
        "###Answer."
      ],
      "metadata": {
        "id": "rfS9SZkWYec4"
      }
    },
    {
      "cell_type": "code",
      "source": [
        "\" If input number is even then function output will be True otherwise it will show False\"\n",
        "result=(lambda number:number%2==0)\n",
        "\n",
        "result(86789897)\n"
      ],
      "metadata": {
        "colab": {
          "base_uri": "https://localhost:8080/"
        },
        "id": "n022Ur-RYjXk",
        "outputId": "8f930072-ce2f-4dba-f9bc-dba2688e6fb5"
      },
      "execution_count": 18,
      "outputs": [
        {
          "output_type": "execute_result",
          "data": {
            "text/plain": [
              "False"
            ]
          },
          "metadata": {},
          "execution_count": 18
        }
      ]
    },
    {
      "cell_type": "markdown",
      "source": [
        "###Filter odd numbers from the given list.\n",
        "[1,2,3,4,5,6,7,8,9,10]\n",
        "\n",
        "###Answer."
      ],
      "metadata": {
        "id": "9VXLo1YJbquA"
      }
    },
    {
      "cell_type": "code",
      "source": [
        "givenlist=[1,2,3,4,5,6,7,8,9,10]\n",
        "result=list((filter(lambda a:a%2!=0,givenlist)))\n",
        "result"
      ],
      "metadata": {
        "colab": {
          "base_uri": "https://localhost:8080/"
        },
        "id": "aV7JZ0jRbwu-",
        "outputId": "5c3f670c-d52a-430a-f302-58bee627a030"
      },
      "execution_count": 22,
      "outputs": [
        {
          "output_type": "execute_result",
          "data": {
            "text/plain": [
              "[1, 3, 5, 7, 9]"
            ]
          },
          "metadata": {},
          "execution_count": 22
        }
      ]
    },
    {
      "cell_type": "markdown",
      "source": [
        "###Sort a list of integers into positive and negative integers lists.\n",
        "[1,2,3,4,5,6,-1,-2,-3,-4,-5,0]\n",
        "\n",
        "###Answer."
      ],
      "metadata": {
        "id": "smQZ6EGWd4i_"
      }
    },
    {
      "cell_type": "code",
      "source": [
        "givenlist=[1,2,3,4,5,6,-1,-2,-3,-4,-5,0]\n",
        "negativenumber=list(filter(lambda a:a<0,sorted(givenlist)))\n",
        "positivenumber=list(filter(lambda a:a>0,sorted(givenlist)))\n",
        "\n",
        "print(negativenumber)\n",
        "print(positivenumber)"
      ],
      "metadata": {
        "colab": {
          "base_uri": "https://localhost:8080/"
        },
        "id": "ToohpVDbeACh",
        "outputId": "b50362e1-7c6b-4305-99ca-22404cd87e23"
      },
      "execution_count": 29,
      "outputs": [
        {
          "output_type": "stream",
          "name": "stdout",
          "text": [
            "[-5, -4, -3, -2, -1]\n",
            "[1, 2, 3, 4, 5, 6]\n"
          ]
        }
      ]
    }
  ]
}