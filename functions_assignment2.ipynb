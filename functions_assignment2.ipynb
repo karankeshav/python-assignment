{
  "nbformat": 4,
  "nbformat_minor": 0,
  "metadata": {
    "colab": {
      "provenance": []
    },
    "kernelspec": {
      "name": "python3",
      "display_name": "Python 3"
    },
    "language_info": {
      "name": "python"
    }
  },
  "cells": [
    {
      "cell_type": "markdown",
      "source": [
        "#Functions Assignment Part-2"
      ],
      "metadata": {
        "id": "f9SCb2xHhqrE"
      }
    },
    {
      "cell_type": "markdown",
      "source": [
        "###Q1. Create a python program to sort the given list of tuples based on integer value using a lambda function.\n",
        "[('Sachin Tendulkar', 34357), ('Ricky Ponting', 27483), ('Jack Kallis', 25534), ('Virat Kohli', 24936)]\n",
        "\n",
        "###Answer.\n",
        "\n"
      ],
      "metadata": {
        "id": "aiEKzsK5h3H7"
      }
    },
    {
      "cell_type": "code",
      "source": [
        "given=[('Sachin Tendulkar', 34357), ('Ricky Ponting', 27483), ('Jack Kallis', 25534), ('Virat Kohli', 24936)]\n",
        "print(sorted(given,key=lambda a:a[1]))"
      ],
      "metadata": {
        "id": "Wo6vclAziK_q",
        "colab": {
          "base_uri": "https://localhost:8080/"
        },
        "outputId": "505ab342-f999-4dde-fdf5-0f360a6165c3"
      },
      "execution_count": 21,
      "outputs": [
        {
          "output_type": "stream",
          "name": "stdout",
          "text": [
            "[('Virat Kohli', 24936), ('Jack Kallis', 25534), ('Ricky Ponting', 27483), ('Sachin Tendulkar', 34357)]\n"
          ]
        }
      ]
    },
    {
      "cell_type": "markdown",
      "source": [
        "###Q2. Write a Python Program to find the squares of all the numbers in the given list of integers using lambda and map functions.\n",
        "[1, 2, 3, 4, 5, 6, 7, 8, 9, 10]\n",
        "\n",
        "###Answer.\n",
        "\n"
      ],
      "metadata": {
        "id": "jgBWFwNHitxz"
      }
    },
    {
      "cell_type": "code",
      "source": [
        "##BY MAP&LAMBDA FUNCTION\n",
        "lst=[1,2,3,4,5,6,7,8,9,10]\n",
        "result=list((map(lambda a:a**2,lst)))\n",
        "result"
      ],
      "metadata": {
        "colab": {
          "base_uri": "https://localhost:8080/"
        },
        "id": "BE01gVEul0nq",
        "outputId": "85ffa639-b0ba-4c9a-d4d4-4ef5a9be8a97"
      },
      "execution_count": 22,
      "outputs": [
        {
          "output_type": "execute_result",
          "data": {
            "text/plain": [
              "[1, 4, 9, 16, 25, 36, 49, 64, 81, 100]"
            ]
          },
          "metadata": {},
          "execution_count": 22
        }
      ]
    },
    {
      "cell_type": "code",
      "source": [
        "##BY MAP FUNCTION\n",
        "lst=[1,2,3,4,5,6,7,8,9,10]\n",
        "def sqr(n):\n",
        "  return n**2\n",
        "result=list(map(sqr,lst))\n",
        "result"
      ],
      "metadata": {
        "colab": {
          "base_uri": "https://localhost:8080/"
        },
        "id": "xJxcDkxbi3aF",
        "outputId": "dfbbe3ed-9031-4ead-a708-7b8f3e4459ad"
      },
      "execution_count": 23,
      "outputs": [
        {
          "output_type": "execute_result",
          "data": {
            "text/plain": [
              "[1, 4, 9, 16, 25, 36, 49, 64, 81, 100]"
            ]
          },
          "metadata": {},
          "execution_count": 23
        }
      ]
    },
    {
      "cell_type": "code",
      "source": [
        "##BY LAMBDA FCUNTION\n",
        "result=lambda a:a**2\n",
        "for i in lst:\n",
        "  print(result(i))"
      ],
      "metadata": {
        "colab": {
          "base_uri": "https://localhost:8080/"
        },
        "id": "kk_9xV-Bjb6N",
        "outputId": "8811e545-053b-4f50-e02d-6ce4b3aa5d14"
      },
      "execution_count": 24,
      "outputs": [
        {
          "output_type": "stream",
          "name": "stdout",
          "text": [
            "1\n",
            "4\n",
            "9\n",
            "16\n",
            "25\n",
            "36\n",
            "49\n",
            "64\n",
            "81\n",
            "100\n"
          ]
        }
      ]
    },
    {
      "cell_type": "markdown",
      "source": [
        "###Q3. Write a python program to convert the given list of integers into a tuple of strings. Use map and lambda functions\n",
        "Given String: [1, 2, 3, 4, 5, 6, 7, 8, 9, 10]\n",
        "\n",
        "\n",
        "Expected output: ('1', '2', '3', '4', '5', '6', '7', '8', '9', '10')\n",
        "\n",
        "###Answer.\n",
        "\n"
      ],
      "metadata": {
        "id": "g-2PNJvHlPPb"
      }
    },
    {
      "cell_type": "code",
      "source": [
        "givenstring=[1,2,3,4,5,6,7,8,9,10]\n",
        "result=tuple(map(lambda a:str(a),givenstring))\n",
        "result"
      ],
      "metadata": {
        "colab": {
          "base_uri": "https://localhost:8080/"
        },
        "id": "0S2Ub4lplgf9",
        "outputId": "df423ec3-17c9-4def-ce5f-c90173872f43"
      },
      "execution_count": 25,
      "outputs": [
        {
          "output_type": "execute_result",
          "data": {
            "text/plain": [
              "('1', '2', '3', '4', '5', '6', '7', '8', '9', '10')"
            ]
          },
          "metadata": {},
          "execution_count": 25
        }
      ]
    },
    {
      "cell_type": "markdown",
      "source": [
        "###Q4. Write a python program using reduce function to compute the product of a list containing numbers from 1 to 25.\n",
        "\n",
        "###Answer.\n",
        "\n",
        "\n"
      ],
      "metadata": {
        "id": "u0diq3hNnn8P"
      }
    },
    {
      "cell_type": "code",
      "source": [
        "from functools import reduce\n",
        "lst=[]\n",
        "for i in range(1,26):\n",
        " lst.append(i)\n",
        "lst\n",
        "result=reduce(lambda a,b:a*b,lst)\n",
        "result\n",
        "    "
      ],
      "metadata": {
        "colab": {
          "base_uri": "https://localhost:8080/"
        },
        "id": "snvzqlQHtZGL",
        "outputId": "d6359a5b-d212-4bdb-d71e-5160e2bfd49a"
      },
      "execution_count": 26,
      "outputs": [
        {
          "output_type": "execute_result",
          "data": {
            "text/plain": [
              "15511210043330985984000000"
            ]
          },
          "metadata": {},
          "execution_count": 26
        }
      ]
    },
    {
      "cell_type": "markdown",
      "source": [
        "###Q5. Write a python program to filter the numbers in a given list that are divisible by 2 and 3 using the filter function.\n",
        "[2, 3, 6, 9, 27, 60, 90, 120, 55, 46]\n",
        "\n",
        "###Answer.\n",
        "\n"
      ],
      "metadata": {
        "id": "GMbgSQgNxSma"
      }
    },
    {
      "cell_type": "code",
      "source": [
        "lst=[2, 3, 6, 9, 27, 60, 90, 120, 55, 46]\n",
        "result=list(filter(lambda a:a%2==0 and a%3==0,lst))\n",
        "result"
      ],
      "metadata": {
        "colab": {
          "base_uri": "https://localhost:8080/"
        },
        "id": "G_Vusxk0xh56",
        "outputId": "2910f9de-5738-40f9-cc08-33abf1b52adc"
      },
      "execution_count": 27,
      "outputs": [
        {
          "output_type": "execute_result",
          "data": {
            "text/plain": [
              "[6, 60, 90, 120]"
            ]
          },
          "metadata": {},
          "execution_count": 27
        }
      ]
    },
    {
      "cell_type": "markdown",
      "source": [
        "###Q6. Write a python program to find palindromes in the given list of strings using lambda and filter function.\n",
        "['python', 'php', 'aba', 'radar', 'level']\n",
        "\n",
        "\n",
        "###Answer.\n",
        "\n"
      ],
      "metadata": {
        "id": "OuiPT9x1yUKW"
      }
    },
    {
      "cell_type": "code",
      "source": [
        "lst=['python', 'php', 'aba', 'radar', 'level']\n",
        "result=list(filter(lambda a:a[::1]==a[::-1],lst))\n",
        "result"
      ],
      "metadata": {
        "colab": {
          "base_uri": "https://localhost:8080/"
        },
        "id": "DTR6-fUp1KE-",
        "outputId": "2c4cafd9-d65e-49ec-bd7e-7b60b0c7544d"
      },
      "execution_count": 28,
      "outputs": [
        {
          "output_type": "execute_result",
          "data": {
            "text/plain": [
              "['php', 'aba', 'radar', 'level']"
            ]
          },
          "metadata": {},
          "execution_count": 28
        }
      ]
    }
  ]
}