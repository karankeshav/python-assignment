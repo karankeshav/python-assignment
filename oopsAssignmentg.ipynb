{
  "cells": [
    {
      "cell_type": "markdown",
      "metadata": {
        "id": "view-in-github",
        "colab_type": "text"
      },
      "source": [
        "<a href=\"https://colab.research.google.com/github/karankeshav/python-assignment/blob/main/oopsAssignmentg.ipynb\" target=\"_parent\"><img src=\"https://colab.research.google.com/assets/colab-badge.svg\" alt=\"Open In Colab\"/></a>"
      ]
    },
    {
      "cell_type": "markdown",
      "source": [
        "#OOPS ASSIGNMENT"
      ],
      "metadata": {
        "id": "AbXZymT0YNp_"
      }
    },
    {
      "cell_type": "markdown",
      "source": [
        "###Q1.Explain class and object with respect to oops programming .Give suitable example.\n",
        "\n",
        "###Answer.\n",
        "A class is like an object constructor ,or a blueprint for creating objects.Classes are defined data types that act as the blueprint for individual object,attributes and methods.Object are instance of a class created with specifically defined data.Object can correspond to real-world object or an abstract entity.\n",
        "\n",
        "In othet words a class is a userc defined type that describe what a certain type of object will look like.A class description consists of declaration and a definition.Usually these pieces are split into separate files.An object is a single instance of a class.You can create many objects from the same class type."
      ],
      "metadata": {
        "id": "DXL2MRvdYQrx"
      }
    },
    {
      "cell_type": "code",
      "source": [
        "#creating class\\\n",
        "class drinks:\n",
        "  def __init__(self,company,colour,flavour):\n",
        "    self.company=company\n",
        "    self.colour=colour\n",
        "    self.flavour=flavour\n",
        "#creating object\n",
        "cocacola=drinks('cocacola','dark brown','coke')\n",
        "cocacola.colour"
      ],
      "metadata": {
        "colab": {
          "base_uri": "https://localhost:8080/",
          "height": 36
        },
        "id": "8x4bE8UFaDmV",
        "outputId": "6bc21320-e3e3-42ba-cae1-2d651bd9eca6"
      },
      "execution_count": 2,
      "outputs": [
        {
          "output_type": "execute_result",
          "data": {
            "text/plain": [
              "'dark brown'"
            ],
            "application/vnd.google.colaboratory.intrinsic+json": {
              "type": "string"
            }
          },
          "metadata": {},
          "execution_count": 2
        }
      ]
    },
    {
      "cell_type": "markdown",
      "source": [
        "###Q2.Name the four pillars of OOPS.\n",
        "\n",
        "###Answer.\n",
        "Here the four pillars of OOPS:\n",
        "\n",
        "-Encapsulation\n",
        "\n",
        "-Inheritance\n",
        "\n",
        "-Polymorphism\n",
        "\n",
        "-Abstraction"
      ],
      "metadata": {
        "id": "iqlxKe_Bbxl7"
      }
    },
    {
      "cell_type": "markdown",
      "source": [
        "###Q3.Why __init__() function used.Give example.\n",
        "\n",
        "###Answer.\n",
        "The __init__() function is called everytime an object is created from the class.The init methods lets the class initialize the object attributes and serves no other purpose.It is only used within classes.It works as a constructor for a class."
      ],
      "metadata": {
        "id": "ht4-bDsxcMql"
      }
    },
    {
      "cell_type": "code",
      "source": [
        "#A SAMPLE CLASS WITH INIT METHOD\n",
        "class person:\n",
        "   #init method or constructor\n",
        "  def __init__(self,name,age):\n",
        "      self.name=name\n",
        "      self.age=age\n",
        "     #sample Method\n",
        "  def sayhi(self):\n",
        "      print('Hello, my name is',self.name)\n",
        "      print('My age is',self.age)\n",
        "\n",
        "\n",
        "p1=person('karan',23)\n",
        "p1.sayhi()"
      ],
      "metadata": {
        "colab": {
          "base_uri": "https://localhost:8080/"
        },
        "id": "UaHCkQwedydx",
        "outputId": "3b11d0b7-12f0-45b8-e400-fe68d6cca069"
      },
      "execution_count": 3,
      "outputs": [
        {
          "output_type": "stream",
          "name": "stdout",
          "text": [
            "Hello, my name is karan\n",
            "My age is 23\n"
          ]
        }
      ]
    },
    {
      "cell_type": "markdown",
      "source": [
        "###Q4.Why self is used in OOPs?\n",
        "\n",
        "###Answer.\n",
        "The self is used to represent the instance pf the class.With this keywords you can access the attributes and method of the class in python.It binds the attributes with the given arguments.The reason why we use self is that python does not use the '@' syntax to refer to instance attributes.In conclusion python uses the self parameter to refer to instance attribute and methods of the class.It is not necessary to use 'self' you can choose whatever you want but if are not using 'self' then use other word in place of it."
      ],
      "metadata": {
        "id": "hhgF-ut8gbVY"
      }
    },
    {
      "cell_type": "markdown",
      "source": [
        "###Q5.What is inheritance?Give example of each types of inheritance.\n",
        "\n",
        "###Answer.\n",
        "Inheritance allows us to define a class that inherits alll the methods and properties from another class.Parent class is the class being inherited from,also called base class.Child class is the class that inherits from another class,also called derived class.\n",
        "\n",
        "There are five types of inheritance...\n",
        "\n",
        "1)Single inheritance.\n",
        "\n",
        "2)Multiple inheritance.\n",
        "\n",
        "3)Multilevel inheritance.\n",
        "\n",
        "4)Hierarchical inheritance.\n",
        "\n",
        "5)Hybrid inheritance."
      ],
      "metadata": {
        "id": "6bU19D84id-i"
      }
    },
    {
      "cell_type": "markdown",
      "source": [
        "###1) single inheritance:\n",
        "\n",
        "In single inheritance there is only one parent class and child class.Only child class's object can access the parent class's methods and data.\n",
        "\n",
        "Let us see some example of single inheritance below.... "
      ],
      "metadata": {
        "id": "Ivyb-IY65uve"
      }
    },
    {
      "cell_type": "code",
      "source": [
        "class Phone:\n",
        "    def __init__(self, price, brand, camera):\n",
        "        print (\"Inside phone constructor\")\n",
        "        self.__price = price\n",
        "        self.brand = brand\n",
        "        self.camera = camera\n",
        "\n",
        "    def buy(self):\n",
        "        print (\"Buying a phone\")\n",
        "\n",
        "class SmartPhone(Phone):\n",
        "    pass\n",
        "\n",
        "SmartPhone(1000,\"Apple\",\"13px\").buy()"
      ],
      "metadata": {
        "colab": {
          "base_uri": "https://localhost:8080/"
        },
        "id": "xcun0X526hok",
        "outputId": "382785b7-f24c-4d4d-8ac5-ecb6f6d0a691"
      },
      "execution_count": 4,
      "outputs": [
        {
          "output_type": "stream",
          "name": "stdout",
          "text": [
            "Inside phone constructor\n",
            "Buying a phone\n"
          ]
        }
      ]
    },
    {
      "cell_type": "markdown",
      "source": [
        "###2) Multiple inheritance..\n",
        "\n",
        "In muiltiple inheirtance there is two parent class and only one child class,and child class's object can access the object and data of these two parent class."
      ],
      "metadata": {
        "id": "jXnEeEKR65Jx"
      }
    },
    {
      "cell_type": "code",
      "source": [
        "#EXAMPLPE OF MULTIPLE INHERITANCE...\n",
        "\n",
        "class Phone:\n",
        "    def __init__(self, price, brand, camera):\n",
        "        print (\"Inside phone constructor\")\n",
        "        self.__price = price\n",
        "        self.brand = brand\n",
        "        self.camera = camera\n",
        "\n",
        "    def buy(self):\n",
        "        print (\"Buying a phone\")\n",
        "\n",
        "class Product:\n",
        "    def review(self):\n",
        "        print (\"Customer review\")\n",
        "\n",
        "class SmartPhone(Phone, Product):\n",
        "    pass\n",
        "\n",
        "s=SmartPhone(20000, \"Apple\", 12)\n",
        "\n",
        "s.buy()\n",
        "s.review()\n"
      ],
      "metadata": {
        "colab": {
          "base_uri": "https://localhost:8080/"
        },
        "id": "QHkRJCOL7gl1",
        "outputId": "f69cb62e-3049-4647-b1c2-fb2395a28d8b"
      },
      "execution_count": 5,
      "outputs": [
        {
          "output_type": "stream",
          "name": "stdout",
          "text": [
            "Inside phone constructor\n",
            "Buying a phone\n",
            "Customer review\n"
          ]
        }
      ]
    },
    {
      "cell_type": "markdown",
      "source": [
        "###3)Multilevel inheritance..\n",
        "\n",
        "In multilevel inheritance there can be many parent classes and many child classes,or in other word one parent class have one child class,and that child class may also have the other child class and this so on..."
      ],
      "metadata": {
        "id": "yvBBM-z67suh"
      }
    },
    {
      "cell_type": "code",
      "source": [
        "class Product:\n",
        "    def review(self):\n",
        "        print (\"Product customer review\")\n",
        "\n",
        "class Phone(Product):\n",
        "    def __init__(self, price, brand, camera):\n",
        "        print (\"Inside phone constructor\")\n",
        "        self.__price = price\n",
        "        self.brand = brand\n",
        "        self.camera = camera\n",
        "\n",
        "    def buy(self):\n",
        "        print (\"Buying a phone\")\n",
        "\n",
        "class SmartPhone(Phone):\n",
        "    pass\n",
        "\n",
        "s=SmartPhone(20000, \"Apple\", 12)\n",
        "\n",
        "s.buy()\n",
        "s.review()"
      ],
      "metadata": {
        "colab": {
          "base_uri": "https://localhost:8080/"
        },
        "id": "ReDv3gmf8bwG",
        "outputId": "c76c6044-4a87-4d94-9153-29d8758e0a95"
      },
      "execution_count": 6,
      "outputs": [
        {
          "output_type": "stream",
          "name": "stdout",
          "text": [
            "Inside phone constructor\n",
            "Buying a phone\n",
            "Product customer review\n"
          ]
        }
      ]
    },
    {
      "cell_type": "markdown",
      "source": [
        "###4)Hierarchical inheritance.\n",
        "\n",
        "In this inheritance a single parent class have more than two cild class or in other word more than two child class have only one single parent class,and these classes can access the data and method of its parent class."
      ],
      "metadata": {
        "id": "WsFiQZVM8nlV"
      }
    },
    {
      "cell_type": "code",
      "source": [
        "class Phone:\n",
        "    def __init__(self, price, brand, camera):\n",
        "        print (\"Inside phone constructor\")\n",
        "        self.__price = price\n",
        "        self.brand = brand\n",
        "        self.camera = camera\n",
        "\n",
        "    def buy(self):\n",
        "        print (\"Buying a phone\")\n",
        "\n",
        "class SmartPhone(Phone):\n",
        "    pass\n",
        "\n",
        "class FeaturePhone(Phone):\n",
        "    pass\n",
        "\n",
        "SmartPhone(1000,\"Apple\",\"13px\").buy()\n",
        "FeaturePhone(10,\"Lava\",\"1px\").buy()"
      ],
      "metadata": {
        "colab": {
          "base_uri": "https://localhost:8080/"
        },
        "id": "yojjGA3a802r",
        "outputId": "fb93aea2-cd9b-41cd-d2db-da72fe3647a5"
      },
      "execution_count": 7,
      "outputs": [
        {
          "output_type": "stream",
          "name": "stdout",
          "text": [
            "Inside phone constructor\n",
            "Buying a phone\n",
            "Inside phone constructor\n",
            "Buying a phone\n"
          ]
        }
      ]
    },
    {
      "cell_type": "markdown",
      "source": [
        "###5)Hybrid Inheritance..\n",
        "\n",
        "\n",
        " Hybrid Inheritance is a blend of more than one type of inheritance. The class is derived from the two classes as in the multiple inheritance. However, one of the parent classes is not the base class. It is a derived class.\n"
      ],
      "metadata": {
        "id": "snPk3aeu86H2"
      }
    },
    {
      "cell_type": "code",
      "source": [
        "class Phone:\n",
        "    def __init__(self, price, brand, camera):\n",
        "        print (\"Inside phone constructor\")\n",
        "        self.__price = price\n",
        "        self.brand = brand\n",
        "        self.camera = camera\n",
        "\n",
        "    def buy(self):\n",
        "        print (\"Buying a phone\")\n",
        "\n",
        "class Product:\n",
        "    def buy(self):\n",
        "        print (\"Product buy method\")\n",
        "\n",
        "\n",
        "class SmartPhone(Phone,Product):\n",
        "    pass"
      ],
      "metadata": {
        "id": "SqTI9YK291aW"
      },
      "execution_count": 9,
      "outputs": []
    }
  ],
  "metadata": {
    "colab": {
      "provenance": [],
      "authorship_tag": "ABX9TyPB9pOLt8JhFtVL50f6KYUg",
      "include_colab_link": true
    },
    "kernelspec": {
      "display_name": "Python 3",
      "name": "python3"
    },
    "language_info": {
      "name": "python"
    }
  },
  "nbformat": 4,
  "nbformat_minor": 0
}