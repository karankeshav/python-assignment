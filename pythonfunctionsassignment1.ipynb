{
  "nbformat": 4,
  "nbformat_minor": 0,
  "metadata": {
    "colab": {
      "provenance": [],
      "authorship_tag": "ABX9TyOonKhS51yL+kb83SRQrMk0",
      "include_colab_link": true
    },
    "kernelspec": {
      "name": "python3",
      "display_name": "Python 3"
    },
    "language_info": {
      "name": "python"
    }
  },
  "cells": [
    {
      "cell_type": "markdown",
      "metadata": {
        "id": "view-in-github",
        "colab_type": "text"
      },
      "source": [
        "<a href=\"https://colab.research.google.com/github/karankeshav/python-assignment/blob/main/pythonfunctionsassignment1.ipynb\" target=\"_parent\"><img src=\"https://colab.research.google.com/assets/colab-badge.svg\" alt=\"Open In Colab\"/></a>"
      ]
    },
    {
      "cell_type": "markdown",
      "source": [
        "#Python Functions Assignment Part-1\n"
      ],
      "metadata": {
        "id": "qCYlb8t6H6o2"
      }
    },
    {
      "cell_type": "markdown",
      "source": [
        "###Q1. Which keyword is used to create a function? Create a function to return a list of odd numbers in the range of 1 to 25.\n",
        "\n",
        "###Answer.\n",
        "\n",
        "def is the keyword used to create a fnuction.\n",
        "\n"
      ],
      "metadata": {
        "id": "mZJdb3xQHuH2"
      }
    },
    {
      "cell_type": "code",
      "source": [
        "def oddnum():\n",
        "  oddnumberlist=[]\n",
        "  for i in range(1,26):\n",
        "    if i%2!=0:\n",
        "      oddnumberlist.append(i)\n",
        "  return oddnumberlist\n",
        "\n",
        "oddnum()"
      ],
      "metadata": {
        "colab": {
          "base_uri": "https://localhost:8080/"
        },
        "id": "OUYjYSIpIuaC",
        "outputId": "57e6b1ee-94ef-4c95-e60c-76a0144b8a4d"
      },
      "execution_count": null,
      "outputs": [
        {
          "output_type": "execute_result",
          "data": {
            "text/plain": [
              "[1, 3, 5, 7, 9, 11, 13, 15, 17, 19, 21, 23, 25]"
            ]
          },
          "metadata": {},
          "execution_count": 5
        }
      ]
    },
    {
      "cell_type": "markdown",
      "source": [
        "###Q2. Why ***args and ***kwargs is used in some functions? Create a function each for **args and **kwargs to demonstrate their use.\n",
        "\n",
        "###Answer.\n",
        "\n",
        "*args allows us to pass many and many argument/input directly in function or in other words its not neccessary to set a limit of input/argumemnt.\n",
        "\n",
        "In the case of **kwargs it allows us to pass the data in dictionary form i.e. in key and value pair.\n",
        "\n",
        "Let seee some examples below..\n",
        "\n"
      ],
      "metadata": {
        "id": "q9U6iQ6SJzFw"
      }
    },
    {
      "cell_type": "code",
      "source": [
        "def num(*args):\n",
        "  return args\n",
        "\n",
        "\"calling of function\"\n",
        "\n",
        "num(1,2,3,4,5,6,7,8,9,90)           ##you can pass no. of  argument as you want"
      ],
      "metadata": {
        "colab": {
          "base_uri": "https://localhost:8080/"
        },
        "id": "W4bhiFX7MWuA",
        "outputId": "0497b7d2-571c-496c-96e1-9921df0a716f"
      },
      "execution_count": null,
      "outputs": [
        {
          "output_type": "execute_result",
          "data": {
            "text/plain": [
              "(1, 2, 3, 4, 5, 6, 7, 8, 9, 90)"
            ]
          },
          "metadata": {},
          "execution_count": 28
        }
      ]
    },
    {
      "cell_type": "code",
      "source": [
        "def dct(**kwargs):\n",
        "  return kwargs\n",
        "\n",
        "\n",
        "dct(name='karan',age=23,course='Data Science Master')"
      ],
      "metadata": {
        "colab": {
          "base_uri": "https://localhost:8080/"
        },
        "id": "3PGCCZqQPmH9",
        "outputId": "f704e945-0377-4c3c-ee3c-1b7a360271d5"
      },
      "execution_count": null,
      "outputs": [
        {
          "output_type": "execute_result",
          "data": {
            "text/plain": [
              "{'name': 'karan', 'age': 23, 'course': 'Data Science Master'}"
            ]
          },
          "metadata": {},
          "execution_count": 27
        }
      ]
    },
    {
      "cell_type": "markdown",
      "source": [
        "###Q3. What is an iterator in python? Name the method used to initialise the iterator object and the method used for iteration. Use these methods to print the first five elements of the given list [2, 4, 6, 8, 10, 12, 14, 16,18, 20].\n",
        "\n",
        "###Answer.\n",
        "\n",
        "Iterator is object which iterate the iterables or in other words iterator is an object that allows the programmer to traverse through a sequence of data without having to store the entire data in memory.\n",
        "\n",
        "__iter()__ & __next()__ are  method is used for iteartion along with loop(any).\n",
        "\n",
        "\n",
        "\n",
        "\n"
      ],
      "metadata": {
        "id": "CUlXvuFRTnnW"
      }
    },
    {
      "cell_type": "code",
      "source": [
        "l=[2, 4, 6, 8, 10, 12, 14, 16,18, 20]\n",
        "iterator=iter(l)\n",
        "for i in l[:5]:\n",
        "  print(next(iterator))"
      ],
      "metadata": {
        "colab": {
          "base_uri": "https://localhost:8080/"
        },
        "id": "2vyPreTGi4oD",
        "outputId": "6bfda8c0-cb70-4b8f-a3f9-95fd14ecdf6f"
      },
      "execution_count": null,
      "outputs": [
        {
          "output_type": "stream",
          "name": "stdout",
          "text": [
            "2\n",
            "4\n",
            "6\n",
            "8\n",
            "10\n"
          ]
        }
      ]
    },
    {
      "cell_type": "markdown",
      "source": [
        "###Q4. What is a generator function in python? Why yield keyword is used? Give an example of a generator function.\n",
        "\n",
        "###Answer.\n",
        "\n",
        "Generator function is used to generate iterator.Generator is a simple way to creating iterator and further iterator create  sequence of values while iterated over.\n",
        "Yield has the same function as like 'return' and 'print' but there is some difference in between them.Yield is used for generate the values in generator or we can say that it controls the flow of generator."
      ],
      "metadata": {
        "id": "A7zyYBvXUpuO"
      }
    },
    {
      "cell_type": "code",
      "source": [
        "##generator example.\n",
        "def gen(n):\n",
        "  for i in range(n):\n",
        "    yield i*2\n",
        "   \n",
        "result=gen(10)\n",
        "for i in result:\n",
        " print(i)      "
      ],
      "metadata": {
        "colab": {
          "base_uri": "https://localhost:8080/"
        },
        "id": "VK3BAb3opwvc",
        "outputId": "15d09912-4501-4623-c8ba-bc1913e55c33"
      },
      "execution_count": null,
      "outputs": [
        {
          "output_type": "stream",
          "name": "stdout",
          "text": [
            "0\n",
            "2\n",
            "4\n",
            "6\n",
            "8\n",
            "10\n",
            "12\n",
            "14\n",
            "16\n",
            "18\n"
          ]
        }
      ]
    },
    {
      "cell_type": "markdown",
      "source": [
        "###Q5. Create a generator function for prime numbers less than 1000. Use the next() method to print the first 20 prime numbers.\n",
        "\n",
        "###Answer."
      ],
      "metadata": {
        "id": "va1GPiejq5Ie"
      }
    },
    {
      "cell_type": "code",
      "source": [
        "def getprimes(n):\n",
        "  if n<=2:\n",
        "      raise StopIteration\n",
        "  yield 2\n",
        "  for i in range(3,n,2):\n",
        "     for x in range(3,int(i**0.5)+2,2):\n",
        "        if not i %x:\n",
        "          break\n",
        "     else:\n",
        "       yield i\n",
        "\n",
        "result=getprimes(1000)\n",
        "for i in range(21):\n",
        "  "
      ],
      "metadata": {
        "id": "GRgNq90lrCOa",
        "colab": {
          "base_uri": "https://localhost:8080/"
        },
        "outputId": "20fcf540-033d-4298-e3f1-f885a6e59ad5"
      },
      "execution_count": null,
      "outputs": [
        {
          "output_type": "stream",
          "name": "stdout",
          "text": [
            "2\n",
            "3\n",
            "5\n",
            "7\n",
            "11\n",
            "13\n",
            "17\n",
            "19\n",
            "23\n",
            "29\n",
            "31\n",
            "37\n",
            "41\n",
            "43\n",
            "47\n",
            "53\n",
            "59\n",
            "61\n",
            "67\n",
            "71\n"
          ]
        }
      ]
    }
  ]
}