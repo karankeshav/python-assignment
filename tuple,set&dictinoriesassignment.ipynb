{
  "nbformat": 4,
  "nbformat_minor": 0,
  "metadata": {
    "colab": {
      "provenance": [],
      "authorship_tag": "ABX9TyPnB9TLYTQ1Ab5cxVfs2Clg",
      "include_colab_link": true
    },
    "kernelspec": {
      "name": "python3",
      "display_name": "Python 3"
    },
    "language_info": {
      "name": "python"
    }
  },
  "cells": [
    {
      "cell_type": "markdown",
      "metadata": {
        "id": "view-in-github",
        "colab_type": "text"
      },
      "source": [
        "<a href=\"https://colab.research.google.com/github/karankeshav/python-assignment/blob/main/tuple%2Cset%26dictinoriesassignment.ipynb\" target=\"_parent\"><img src=\"https://colab.research.google.com/assets/colab-badge.svg\" alt=\"Open In Colab\"/></a>"
      ]
    },
    {
      "cell_type": "markdown",
      "source": [
        "# Tuple ,Set &Dictinory assignment"
      ],
      "metadata": {
        "id": "ecoKqDfOAAJg"
      }
    },
    {
      "cell_type": "markdown",
      "source": [
        "###Q1: What are the characteristics of the tuples? Is tuple immutable?\n",
        "###Answer:\n",
        " Characterstics of tuple:\n",
        "\n",
        "   1) Tuple is written in parenthesis bracket unlike\n",
        "      list,dictionary,set.       \n",
        "\n",
        "   2) Tuple can contain duplicate elements like list.\n",
        "\n",
        "   3) You can get tuple element by its index number like list.\n",
        "\n",
        "   4) Most important thing about tuple is,they are immutable(i.e.you can not chnage its element once you created it)\n",
        "\n",
        "   5) Tuples are ordered.\n",
        "\n",
        "  Yes.Tuple is immutable,can not change its element once you created it."
      ],
      "metadata": {
        "id": "Wm-wyh6eAy0y"
      }
    },
    {
      "cell_type": "markdown",
      "source": [
        "###Q2. What are the two tuple methods in python? Give an example of each method. Give a reason why tuples have only two in-built methods as compared to Lists.\n",
        "###Answer:\n",
        "\n",
        "There are two methods in tuple:\n",
        "\n",
        "1) count()\n",
        "\n",
        "2) inddex()\n",
        "\n",
        "Before going towards example of count(),index(),let see the use of this methods..\n",
        "\n",
        "cont()=This method shows that how many times a particular number repeating in tuple.\n",
        "\n",
        "index()=This methods shows the index number of the particular element present in the tuple.\n"
      ],
      "metadata": {
        "id": "xCo8nlGbA5r6"
      }
    },
    {
      "cell_type": "code",
      "source": [
        "#example of count() and index()\n",
        "tuple1=(1,2,3,4,5,6,7)\n",
        "print(tuple1.index(6))\n",
        "print(tuple1.index(5))\n",
        "\n",
        "tuple2=(1,2,3,1,4,5,6,1,7,2)\n",
        "print(tuple2.count(1))\n",
        "print(tuple2.count(2))"
      ],
      "metadata": {
        "id": "zBR2ihT-JNJW"
      },
      "execution_count": null,
      "outputs": []
    },
    {
      "cell_type": "markdown",
      "source": [
        "Yes,Tuple have only two in-built method as compared to list because tuple is immutable ,you can not change element in tuple once you created it unlike list."
      ],
      "metadata": {
        "id": "11RwxwetSHcP"
      }
    },
    {
      "cell_type": "markdown",
      "source": [
        "###Q3. Which collection datatypes in python do not allow duplicate items? Write a code using a set to remove duplicates from the given list.\n",
        "List = [1, 1, 1, 2, 1, 3, 1, 4, 2, 1, 2, 2, 2, 3, 2, 4, 3, 1, 3, 2, 3, 3, 3, 4, 4, 1, 4, 2, 4, 3, 4, 4]\n",
        "\n",
        "###Answer:\n",
        "\n",
        "Set is a datatype in python which do not allow duplicate items.\n",
        "\n",
        "If you put same element twice or more than twice in set it will be printed only once. \n"
      ],
      "metadata": {
        "id": "Lo-tEvsBSxei"
      }
    },
    {
      "cell_type": "code",
      "source": [
        "List = [1, 1, 1, 2, 1, 3, 1, 4, 2, 1, 2, 2, 2, 3, 2, 4, 3, 1, 3, 2, 3, 3, 3, 4, 4, 1, 4, 2, 4, 3, 4, 4]\n",
        "print(set(List))"
      ],
      "metadata": {
        "colab": {
          "base_uri": "https://localhost:8080/"
        },
        "id": "rsucoGRWT4Ow",
        "outputId": "d265141c-13ed-4713-8856-8b7f94a71f09"
      },
      "execution_count": 8,
      "outputs": [
        {
          "output_type": "stream",
          "name": "stdout",
          "text": [
            "{1, 2, 3, 4}\n"
          ]
        }
      ]
    },
    {
      "cell_type": "markdown",
      "source": [
        "###Q4. Explain the difference between the union() and update() methods for a set. Give an example of each method.\n",
        "\n",
        "###Answer:\n",
        "\n",
        "Consider there two sets: set1,set2.\n",
        "\n",
        "\n",
        "update() method will add all the elements in set1 from the set2 .On the other hand union() method print all the elements present in set1 and set2 in a new set.In update() method no new set is formed like union() method.In union() formation of new set is involve. "
      ],
      "metadata": {
        "id": "HKSPX6IZUL2V"
      }
    },
    {
      "cell_type": "code",
      "source": [
        "##examples of a update() & union()(|)\n",
        "set1={1,2,4,5,67,8,65,4,90}\n",
        "set2={6,8,3,4,5,68,423,8}\n",
        "a.update(b)\n",
        "print(a)\n",
        "\n",
        "set1={7,4,56,7,8,4,3,6,78,4}\n",
        "set2={5,3,6,4,67,9,6,4,3,7}\n",
        "print(set1|set2)"
      ],
      "metadata": {
        "colab": {
          "base_uri": "https://localhost:8080/"
        },
        "id": "BdNAZXS7X4U2",
        "outputId": "a6d7ee2c-6858-43f8-8fe5-08158a0ace25"
      },
      "execution_count": 14,
      "outputs": [
        {
          "output_type": "stream",
          "name": "stdout",
          "text": [
            "{1, 2, 3, 4, 8, 56}\n",
            "{3, 4, 67, 6, 7, 8, 5, 9, 78, 56}\n"
          ]
        }
      ]
    },
    {
      "cell_type": "markdown",
      "source": [
        "###Q5. What is a dictionary? Give an example. Also, state whether a dictionary is ordered or unordered.\n",
        "\n",
        "###Answer:\n",
        "\n",
        "Dictionary is a collection of data in key and value pairs and every key should be unique itself otherwsie it will updated with the other one.\n",
        "\n"
      ],
      "metadata": {
        "id": "tE-eKQh-aFm8"
      }
    },
    {
      "cell_type": "code",
      "source": [
        "d1={'name':'karan','age':23,'coursename':'Data Sceince Masters'}\n",
        "print(d1)"
      ],
      "metadata": {
        "colab": {
          "base_uri": "https://localhost:8080/"
        },
        "id": "cNZ1HtohbxuF",
        "outputId": "a104f25f-6a1f-4e30-bf2d-7cbc7f265478"
      },
      "execution_count": 17,
      "outputs": [
        {
          "output_type": "stream",
          "name": "stdout",
          "text": [
            "{'name': 'karan', 'age': 23, 'coursename': 'Data Sceince Masters'}\n"
          ]
        }
      ]
    },
    {
      "cell_type": "markdown",
      "source": [
        "Yes,Dictionary is a ordered and its also mutable."
      ],
      "metadata": {
        "id": "HzJeuScVckwa"
      }
    },
    {
      "cell_type": "markdown",
      "source": [
        "###6. Can we create a nested dictionary? If so, please give an example by creating a simple one-level nested dictionary.\n",
        "\n",
        "###Answer:\n",
        "Yes,like other data structurs its possible to create nested dictionary."
      ],
      "metadata": {
        "id": "a9UIGqcKaW6D"
      }
    },
    {
      "cell_type": "code",
      "source": [
        "d2={'course':{'coursefees':3200,'coursename':'Data Sceince Masters'},\n",
        "'mentors':{'mentor1':'krish naik','mentor2':'sudhanshu kumar'},\n",
        "'courselanguage':{'language1':'english','language2':'hindi'}}\n",
        "d2"
      ],
      "metadata": {
        "colab": {
          "base_uri": "https://localhost:8080/"
        },
        "id": "kCGJGerqdsQi",
        "outputId": "707f1487-dcaf-4ba3-e1b9-85b0ef6832a7"
      },
      "execution_count": 32,
      "outputs": [
        {
          "output_type": "execute_result",
          "data": {
            "text/plain": [
              "{'course': {'coursefees': 3200, 'coursename': 'Data Sceince Masters'},\n",
              " 'mentors': {'mentor1': 'krish naik', 'mentor2': 'sudhanshu kumar'},\n",
              " 'courselanguage': {'language1': 'english', 'language2': 'hindi'}}"
            ]
          },
          "metadata": {},
          "execution_count": 32
        }
      ]
    },
    {
      "cell_type": "markdown",
      "source": [
        "###Q7. Using setdefault() method, create key named topics in the given dictionary and also add the value of the key as this list ['Python', 'Machine Learning’, 'Deep Learning']\n",
        "dict1 = {'language' : 'Python', 'course': 'Data Science Masters'}\n",
        "\n",
        "###Answer:\n",
        "\n"
      ],
      "metadata": {
        "id": "vutgyW-Phqli"
      }
    },
    {
      "cell_type": "code",
      "source": [
        "dict1= {'language' : 'Python', 'course': 'Data Science Masters'}\n",
        "dict1.setdefault('topics',(['Python','machine Learning','Deep Learning']))\n",
        "dict1"
      ],
      "metadata": {
        "id": "dsss-zXVuqsg"
      },
      "execution_count": null,
      "outputs": []
    },
    {
      "cell_type": "markdown",
      "source": [
        "###Q8. What are the three view objects in dictionaries? Use the three in-built methods in python to display these three view objects for the given dictionary.\n",
        "dict1 = {'Sport': 'Cricket' , 'Teams': ['India', 'Australia', 'England', 'South Africa', 'Sri Lanka', 'New Zealand']}\n",
        "\n",
        "###Answer:\n",
        "\n",
        "Three view objects in dictinories are:\n",
        "\n",
        "1) keys()\n",
        "\n",
        "2) values()\n",
        "\n",
        "3) items()\n",
        "\n"
      ],
      "metadata": {
        "id": "bUjGm7tKyLdg"
      }
    },
    {
      "cell_type": "code",
      "source": [
        "dict1 = {'Sport': 'Cricket' , 'Teams': ['India', 'Australia', 'England', 'South Africa', 'Sri Lanka', 'New Zealand']}\n",
        "print(dict1.keys())\n",
        "print(dict1.values())\n",
        "print(dict1.items())"
      ],
      "metadata": {
        "colab": {
          "base_uri": "https://localhost:8080/"
        },
        "id": "ZuaqzpzCzbhk",
        "outputId": "b9fa243c-5c9a-4a8f-f400-91ad7ea61816"
      },
      "execution_count": 45,
      "outputs": [
        {
          "output_type": "stream",
          "name": "stdout",
          "text": [
            "dict_keys(['Sport', 'Teams'])\n",
            "dict_values(['Cricket', ['India', 'Australia', 'England', 'South Africa', 'Sri Lanka', 'New Zealand']])\n",
            "dict_items([('Sport', 'Cricket'), ('Teams', ['India', 'Australia', 'England', 'South Africa', 'Sri Lanka', 'New Zealand'])])\n"
          ]
        }
      ]
    }
  ]
}